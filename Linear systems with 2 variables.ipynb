{
 "cells":[
  {
   "cell_type":"markdown",
   "source":[
    "**This notebook contains some use cases and examples of solving linear algebra problems with python numpy**"
   ],
   "attachments":{
    
   },
   "metadata":{
    "datalore":{
     "node_id":"wfjDGKwo5D9QnrO9h5Cjz3",
     "type":"MD",
     "hide_input_from_viewers":true,
     "hide_output_from_viewers":true
    }
   }
  },
  {
   "cell_type":"code",
   "source":[
    "# Let's import the required libraries\n",
    "\n",
    "import numpy as np\n",
    "import matplotlib.pyplot as plt"
   ],
   "execution_count":1,
   "outputs":[
    
   ],
   "metadata":{
    "datalore":{
     "node_id":"ULxLYbQzB0EexSLsiudxRs",
     "type":"CODE",
     "hide_input_from_viewers":true,
     "hide_output_from_viewers":true
    }
   }
  },
  {
   "cell_type":"markdown",
   "source":[
    "**For our use case, let's start off with a simple linear equation:**\n",
    "\n",
    "-x1 + 3x2 = 7\n",
    "\n",
    "3x1 + 2x2 = 1"
   ],
   "attachments":{
    
   },
   "metadata":{
    "datalore":{
     "node_id":"jyThGg9DINcfC4T4mjkO7H",
     "type":"MD",
     "hide_input_from_viewers":true,
     "hide_output_from_viewers":true
    }
   }
  },
  {
   "cell_type":"code",
   "source":[
    "# Create two arrays\n",
    "\n",
    "a_two_d_arr = np.array([[-1,3],[3,2]],dtype=float)\n",
    "a_one_d_arr = np.array([7,1],dtype=float)\n",
    "\n",
    "print(f\"2D array is: {a_two_d_arr}\")\n",
    "print(f\"1D array is: {a_one_d_arr}\")\n",
    "\n",
    "print(f\"2D array shape is: {a_two_d_arr.shape}\")\n",
    "print(f\"1D array shape is: {a_one_d_arr.shape}\")"
   ],
   "execution_count":2,
   "outputs":[
    {
     "name":"stdout",
     "text":[
      "2D array is: [[-1.  3.]\n",
      " [ 3.  2.]]\n",
      "1D array is: [7. 1.]\n",
      "2D array shape is: (2, 2)\n",
      "1D array shape is: (2,)\n"
     ],
     "output_type":"stream"
    }
   ],
   "metadata":{
    "datalore":{
     "node_id":"4nJgnyVYwHxfO2VP15uh1b",
     "type":"CODE",
     "hide_input_from_viewers":true,
     "hide_output_from_viewers":true
    }
   }
  },
  {
   "cell_type":"code",
   "source":[
    "# now lets use the linear algebra solve function to solve the vectors representing our equation to get the output(finite\/infinie)\n",
    "\n",
    "lin_alg_sol = np.linalg.solve(a_two_d_arr, a_one_d_arr)\n",
    "print(f\"Linear algebra solution is: {lin_alg_sol}\")"
   ],
   "execution_count":3,
   "outputs":[
    {
     "name":"stdout",
     "text":[
      "Linear algebra solution is: [-1.  2.]\n"
     ],
     "output_type":"stream"
    }
   ],
   "metadata":{
    "datalore":{
     "node_id":"GGESK6lgNu3xDfEbuBNPHb",
     "type":"CODE",
     "hide_input_from_viewers":true,
     "hide_output_from_viewers":true
    }
   }
  },
  {
   "cell_type":"code",
   "source":[
    "# now let's use the linear algebra det (determinant) function to find the determinant\n",
    "\n",
    "lin_alg_det = np.linalg.det(a_two_d_arr)\n",
    "print(f\"The determinant of the equation is: {lin_alg_det:.2f}\")"
   ],
   "execution_count":4,
   "outputs":[
    {
     "name":"stdout",
     "text":[
      "The determinant of the equation is: -11.00\n"
     ],
     "output_type":"stream"
    }
   ],
   "metadata":{
    "datalore":{
     "node_id":"qICEqAHntzo5kriRTFxbf0",
     "type":"CODE",
     "hide_input_from_viewers":true,
     "hide_output_from_viewers":true
    }
   }
  },
  {
   "cell_type":"markdown",
   "source":[
    "**Another way to find the solution to an equation is to eliminate the variables, let's look at example below**\n",
    "\n",
    "-x1 + 3x2 = 7\n",
    "\n",
    "3x1 + 2x2 = 1\n",
    "\n",
    "For the above equation, if we multiply 3 in the first equation and add it to the second equation then we get the following equation\n",
    "\n",
    "11x2 = 22 \n",
    "\n",
    "Hence, we can conclude that x2 is 2. Similar way if we now take x2 and replace its value in original equation 1\n",
    "\n",
    "-1x1 + 6 = 7, and x1 is -1"
   ],
   "attachments":{
    
   },
   "metadata":{
    "datalore":{
     "node_id":"msPalCMYNYSz2sj7m7HHp1",
     "type":"MD",
     "hide_input_from_viewers":true,
     "hide_output_from_viewers":true
    }
   }
  },
  {
   "cell_type":"code",
   "source":[
    "# now let's try to derive this using the numpy\n",
    "\n",
    "# let's stack the arrays together horizontally and reshape the one d array to vertical two d array\n",
    "\n",
    "lin_alg_eq_arr = np.hstack((a_two_d_arr, np.reshape(a_one_d_arr,(2,1))))\n",
    "\n",
    "print(f\"Linear algebra equation array is: {lin_alg_eq_arr}\")\n",
    "\n",
    "# let's extract one row of the metric \n",
    "\n",
    "print(f\"One row of the metric is: {lin_alg_eq_arr[0]}\")"
   ],
   "execution_count":5,
   "outputs":[
    {
     "name":"stdout",
     "text":[
      "Linear algebra equation array is: [[-1.  3.  7.]\n",
      " [ 3.  2.  1.]]\n",
      "One row of the metric is: [-1.  3.  7.]\n"
     ],
     "output_type":"stream"
    }
   ],
   "metadata":{
    "datalore":{
     "node_id":"ynuVVFNtczJdtWI5i8mdTj",
     "type":"CODE",
     "hide_input_from_viewers":true,
     "hide_output_from_viewers":true
    }
   }
  },
  {
   "cell_type":"code",
   "source":[
    "# now let's try the elimination method on the new matrice\n",
    "\n",
    "# start by creating a copy of the original array\n",
    "cpy_lin_alg_eq_arr = lin_alg_eq_arr.copy()\n",
    "\n",
    "# multiply first row with 3 and add it to the second row\n",
    "cpy_lin_alg_eq_arr_comp = cpy_lin_alg_eq_arr[0]*3+cpy_lin_alg_eq_arr[1]\n",
    "\n",
    "print(f\"Print the new computed array: {cpy_lin_alg_eq_arr_comp}\")\n",
    "\n",
    "# multiple computed row with 1\/11\n",
    "cpy_lin_alg_eq_arr_comp = 1\/11 * cpy_lin_alg_eq_arr_comp\n",
    "print(f\"Print the new computed array: {cpy_lin_alg_eq_arr_comp}\") # now you get x2 as 2"
   ],
   "execution_count":6,
   "outputs":[
    {
     "name":"stdout",
     "text":[
      "Print the new computed array: [ 0. 11. 22.]\n",
      "Print the new computed array: [0. 1. 2.]\n"
     ],
     "output_type":"stream"
    }
   ],
   "metadata":{
    "datalore":{
     "node_id":"2IIWENBY720tSzaq6z56oL",
     "type":"CODE",
     "hide_input_from_viewers":true,
     "hide_output_from_viewers":true
    }
   }
  },
  {
   "cell_type":"code",
   "source":[
    "# now let's look at few more examples and plot them\n",
    "x_2_arr = np.linspace(-10,10,100)\n",
    "\n",
    "# now let's assume we are substituting the values above for x2 and let's derive values for x1\n",
    "x_1_arr_line_1 = (lin_alg_eq_arr[0,2] - lin_alg_eq_arr[0,1] * x_2_arr)\/(lin_alg_eq_arr[0,0])\n",
    "x_1_arr_line_2 = (lin_alg_eq_arr[1,2] - lin_alg_eq_arr[1,1] * x_2_arr)\/(lin_alg_eq_arr[1,0])\n",
    "\n",
    "# Plot the data\n",
    "plt.plot(x_1_arr_line_1, x_2_arr, marker='', color='r', label='Line 1')\n",
    "plt.plot(x_1_arr_line_2, x_2_arr, marker='', color='g', label='Line 2')\n",
    "\n",
    "# Set labels and title\n",
    "plt.xlabel(\"Values for x1\")\n",
    "plt.ylabel(\"Values for x2\")\n",
    "plt.title(\"Plotting curve for equation -x1 + 3x2 = 7\")\n",
    "\n",
    "plt.scatter(lin_alg_sol[0], lin_alg_sol[1], marker='o', color='r', label=f'{lin_alg_sol}')\n",
    "\n",
    "plt.legend()\n",
    "\n",
    "plt.show()"
   ],
   "execution_count":7,
   "outputs":[
    {
     "data":{
      "image\/png":"[encoded data removed]"
     },
     "metadata":{
      "image\/png":{
       
      }
     },
     "output_type":"display_data"
    }
   ],
   "metadata":{
    "datalore":{
     "node_id":"Fo6sqzYU9Pke4KzX62tdy3",
     "type":"CODE",
     "hide_input_from_viewers":true,
     "hide_output_from_viewers":true
    }
   }
  },
  {
   "cell_type":"code",
   "source":[
    "# now let's compute system of linear equation with no solution\n",
    "# −𝑥1+3𝑥2=7\n",
    "# 3𝑥1−9𝑥2=1\n",
    "\n",
    "eq_attr_arr = np.array([[-1,3],[3,-9]])\n",
    "eq_val_arr = np.array([7,1])\n",
    "\n",
    "# calculate the determinant\n",
    "det = np.linalg.det(eq_attr_arr)\n",
    "\n",
    "print(f\"Determinant is: {det}\")\n",
    "\n",
    "# solve the linear equation\n",
    "try:\n",
    "    sol = np.linalg.solve(eq_attr_arr, eq_val_arr)\n",
    "    print(f\"Solution of the linear equation is: {sol}\")\n",
    "except np.linalg.LinAlgError as err:\n",
    "    print(f\"Error while solving linear equation: {err}\")\n",
    "\n",
    "eq_arr = np.hstack((eq_attr_arr,eq_val_arr.reshape(2,1)))\n",
    "\n",
    "print(f\"Equation array is: {eq_arr}\")\n",
    "\n",
    "# let's try the elimination approach\n",
    "x1_val_arr = np.linspace(-10,10,100)\n",
    "\n",
    "# let's create two lines when values for x1 are given\n",
    "x2_arr_line_1 = (eq_arr[0,2] - eq_arr[0,0] * x1_val_arr)\/eq_arr[0,1]\n",
    "x2_arr_line_2 = (eq_arr[1,2] - eq_arr[1,0] * x1_val_arr)\/eq_arr[1,1]\n",
    "\n",
    "plt.plot(x1_val_arr, x2_arr_line_1, marker='', color='r')\n",
    "plt.plot(x1_val_arr, x2_arr_line_2, marker='', color='g')\n",
    "plt.title(\"Graph plot for singular linear equation\")\n",
    "plt.xlabel(\"Values for x1\")\n",
    "plt.ylabel(\"Values for x2\")\n",
    "plt.show()"
   ],
   "execution_count":2,
   "outputs":[
    {
     "name":"stdout",
     "text":[
      "Determinant is: 0.0\n",
      "Error while solving linear equation: Singular matrix\n",
      "Equation array is: [[-1  3  7]\n",
      " [ 3 -9  1]]\n"
     ],
     "output_type":"stream"
    },
    {
     "data":{
      "image\/png":"[encoded data removed]"
     },
     "metadata":{
      "image\/png":{
       
      }
     },
     "output_type":"display_data"
    }
   ],
   "metadata":{
    "datalore":{
     "node_id":"J5EFUOmLll1wJXIyVQS8mW",
     "type":"CODE",
     "hide_input_from_viewers":true,
     "hide_output_from_viewers":true
    }
   }
  },
  {
   "cell_type":"code",
   "source":[
    "# now let's compute system of linear equation with infinite solutions\n",
    "# −𝑥1+3𝑥2=7\n",
    "# 3𝑥1−9𝑥2=1\n",
    "\n",
    "eq_attr_arr = np.array([[-1,3],[3,-9]])\n",
    "eq_val_arr = np.array([7,-21])\n",
    "\n",
    "# calculate the determinant\n",
    "det = np.linalg.det(eq_attr_arr)\n",
    "\n",
    "print(f\"Determinant is: {det}\")\n",
    "\n",
    "# solve the linear equation\n",
    "try:\n",
    "    sol = np.linalg.solve(eq_attr_arr, eq_val_arr)\n",
    "    print(f\"Solution of the linear equation is: {sol}\")\n",
    "except np.linalg.LinAlgError as err:\n",
    "    print(f\"Error while solving linear equation: {err}\")\n",
    "\n",
    "eq_arr = np.hstack((eq_attr_arr,eq_val_arr.reshape(2,1)))\n",
    "\n",
    "print(f\"Equation array is: {eq_arr}\")\n",
    "\n",
    "# let's try the elimination approach\n",
    "x1_val_arr = np.linspace(-10,10,100)\n",
    "\n",
    "# let's create two lines when values for x1 are given\n",
    "x2_arr_line_1 = (eq_arr[0,2] - eq_arr[0,0] * x1_val_arr)\/eq_arr[0,1]\n",
    "x2_arr_line_2 = (eq_arr[1,2] - eq_arr[1,0] * x1_val_arr)\/eq_arr[1,1]\n",
    "\n",
    "plt.plot(x1_val_arr, x2_arr_line_1, marker='', color='r', label='line1')\n",
    "plt.plot(x1_val_arr, x2_arr_line_2, marker='', color='g', label='line2')\n",
    "plt.title(\"Graph plot for singular linear equation\")\n",
    "plt.xlabel(\"Values for x1\")\n",
    "plt.ylabel(\"Values for x2\")\n",
    "plt.legend()\n",
    "plt.show()"
   ],
   "execution_count":5,
   "outputs":[
    {
     "name":"stdout",
     "text":[
      "Determinant is: 0.0\n",
      "Error while solving linear equation: Singular matrix\n",
      "Equation array is: [[ -1   3   7]\n",
      " [  3  -9 -21]]\n"
     ],
     "output_type":"stream"
    },
    {
     "data":{
      "image\/png":"[encoded data removed]"
     },
     "metadata":{
      "image\/png":{
       
      }
     },
     "output_type":"display_data"
    }
   ],
   "metadata":{
    "datalore":{
     "node_id":"N4jwmkNS2UsRb80HVB7dJi",
     "type":"CODE",
     "hide_input_from_viewers":true,
     "hide_output_from_viewers":true
    }
   }
  },
  {
   "cell_type":"code",
   "source":[
    
   ],
   "execution_count":null,
   "outputs":[
    
   ],
   "metadata":{
    "datalore":{
     "node_id":"bZYqhHmGG3K3n6AIgXpOnn",
     "type":"CODE",
     "hide_input_from_viewers":true,
     "hide_output_from_viewers":true
    }
   }
  }
 ],
 "metadata":{
  "kernelspec":{
   "display_name":"Python",
   "language":"python",
   "name":"python"
  },
  "datalore":{
   "computation_mode":"JUPYTER",
   "package_manager":"pip",
   "base_environment":"default",
   "packages":[
    
   ],
   "report_row_ids":[
    
   ],
   "version":3
  }
 },
 "nbformat":4,
 "nbformat_minor":4
}