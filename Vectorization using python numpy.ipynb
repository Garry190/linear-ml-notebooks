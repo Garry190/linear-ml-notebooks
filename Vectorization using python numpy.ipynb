{
 "cells":[
  {
   "cell_type":"markdown",
   "source":[
    "**This notebook covers examples of working with vectors using numpy**"
   ],
   "attachments":{
    
   },
   "metadata":{
    "datalore":{
     "node_id":"LNXSrJDWx09292vC8Xsdjk",
     "type":"MD",
     "hide_input_from_viewers":true,
     "hide_output_from_viewers":true
    }
   }
  },
  {
   "cell_type":"code",
   "source":[
    "# Import required libraries\n",
    "import numpy as np\n",
    "import time"
   ],
   "execution_count":2,
   "outputs":[
    
   ],
   "metadata":{
    "datalore":{
     "node_id":"DdEdlG45TTPnEWzxcU1spV",
     "type":"CODE",
     "hide_input_from_viewers":true,
     "hide_output_from_viewers":true
    }
   }
  },
  {
   "cell_type":"code",
   "source":[
    "# Let's create out vector and look at various properties of the vector\n",
    "# In below examples numpy arrays take shape of the array and instantiate them\n",
    "\n",
    "# define 1d zeros array with 4 elements for one d array\n",
    "arr_zeros = np.zeros(4)\n",
    "print(f\"Size of 1d zeros array is: {arr_zeros.size}\\nShape of 1d zeros array is: {arr_zeros.shape}\\nDimensions of 1d zeros array is: {arr_zeros.ndim}\\nData type of 1d zeros array is: {arr_zeros.dtype}\\nValues of 1d zeros array is: {arr_zeros}\\n\")\n",
    "\n",
    "# define 2d zeros array with 16 elements for one 2d array\n",
    "arr_zeros = np.zeros((4,4))\n",
    "print(f\"Size of 2d zeros array is: {arr_zeros.size}\\nShape of 2d zeros array is: {arr_zeros.shape}\\nDimensions of 2d zeros array is: {arr_zeros.ndim}\\nData type of 2d zeros array is: {arr_zeros.dtype}\\nValues of 2d zeros array is: {arr_zeros}\\n\")\n",
    "\n",
    "# define 1d random array with 4 elements\n",
    "arr_rand = np.random.random_sample(4)\n",
    "print(f\"Size of 1d random array is: {arr_rand.size}\\nShape of 1d random array is: {arr_rand.shape}\\nDimensions of 1d random array is: {arr_rand.ndim}\\nData type of 1d random array is: {arr_rand.dtype}\\nValues of 1d random array is: {arr_rand}\\n\")\n",
    "\n",
    "# define 2d random array with 4 elements\n",
    "arr_rand = np.random.random_sample(4)\n",
    "print(f\"Size of 2d random array is: {arr_rand.size}\\nShape of 2d random array is: {arr_rand.shape}\\nDimensions of 2d random array is: {arr_rand.ndim}\\nData type of 2d random array is: {arr_rand.dtype}\\nValues of 2d random array is: {arr_zeros}\\n\")\n",
    "\n",
    "# definte 1d arange array with 4 numbers starting from 0 or a specific range\n",
    "arr_arange = np.arange(4)\n",
    "print(f\"Size of 1d arange array is: {arr_arange.size}\\nShape of 1d arange array is: {arr_arange.shape}\\nDimensions of 1d arange array is: {arr_arange.ndim}\\nData type of 1d arange array is: {arr_arange.dtype}\\nValues of 1d arange array is: {arr_arange}\\n\")"
   ],
   "execution_count":17,
   "outputs":[
    {
     "name":"stdout",
     "text":[
      "Size of 1d zeros array is: 4\n",
      "Shape of 1d zeros array is: (4,)\n",
      "Dimensions of 1d zeros array is: 1\n",
      "Data type of 1d zeros array is: float64\n",
      "Values of 1d zeros array is: [0. 0. 0. 0.]\n",
      "\n",
      "Size of 2d zeros array is: 16\n",
      "Shape of 2d zeros array is: (4, 4)\n",
      "Dimensions of 2d zeros array is: 2\n",
      "Data type of 2d zeros array is: float64\n",
      "Values of 2d zeros array is: [[0. 0. 0. 0.]\n",
      " [0. 0. 0. 0.]\n",
      " [0. 0. 0. 0.]\n",
      " [0. 0. 0. 0.]]\n",
      "\n",
      "Size of 1d random array is: 4\n",
      "Shape of 1d random array is: (4,)\n",
      "Dimensions of 1d random array is: 1\n",
      "Data type of 1d random array is: float64\n",
      "Values of 1d random array is: [0.03137682 0.19061002 0.24799402 0.55075466]\n",
      "\n",
      "Size of 2d random array is: 4\n",
      "Shape of 2d random array is: (4,)\n",
      "Dimensions of 2d random array is: 1\n",
      "Data type of 2d random array is: float64\n",
      "Values of 2d random array is: [[0. 0. 0. 0.]\n",
      " [0. 0. 0. 0.]\n",
      " [0. 0. 0. 0.]\n",
      " [0. 0. 0. 0.]]\n",
      "\n",
      "Size of 1d arange array is: 4\n",
      "Shape of 1d arange array is: (4,)\n",
      "Dimensions of 1d arange array is: 1\n",
      "Data type of 1d arange array is: int64\n",
      "Values of 1d arange array is: [0 1 2 3]\n",
      "\n",
      "Size of 1d arange array is: 0\n",
      "Shape of 1d arange array is: (0,)\n",
      "Dimensions of 1d arange array is: 1\n",
      "Data type of 1d arange array is: int64\n",
      "Values of 1d arange array is: []\n",
      "\n"
     ],
     "output_type":"stream"
    }
   ],
   "metadata":{
    "datalore":{
     "node_id":"91JhI9reREDvk7TaqgHq1z",
     "type":"CODE",
     "hide_input_from_viewers":true,
     "hide_output_from_viewers":true
    }
   }
  },
  {
   "cell_type":"code",
   "source":[
    "# Here are some single vector operations\n",
    "\n",
    "arr_1d_a = np.array([1,2,3,4,5,6])\n",
    "\n",
    "sum_arr_1d = np.sum(arr_1d_a)\n",
    "\n",
    "mean_arr_1d = np.mean(arr_1d_a)\n",
    "\n",
    "print(f\"Sum of 1d array is: {sum_arr_1d}\\nMean of 1d array is: {mean_arr_1d}\")\n",
    "\n",
    "# Here are some multiple vector operations\n",
    "\n",
    "arr_1d_b = np.array([2,34,54,32,2,34])\n",
    "\n",
    "add_arr_1d = arr_1d_a + arr_1d_b\n",
    "sub_arr_1d = arr_1d_b - arr_1d_a\n",
    "mul_arr_1d = arr_1d_a * arr_1d_b\n",
    "\n",
    "print(f\"Sum of multiple vector arrays is: {add_arr_1d}\\nSubtraction of multiple vector arrays is: {sub_arr_1d}\\nMultiplication of multiple vector arrays is: {mul_arr_1d}\")"
   ],
   "execution_count":21,
   "outputs":[
    {
     "name":"stdout",
     "text":[
      "Sum of 1d array is: 21\n",
      "Mean of 1d array is: 3.5\n",
      "Sum of multiple vector arrays is: [ 3 36 57 36  7 40]\n",
      "Subtraction of multiple vector arrays is: [ 1 32 51 28 -3 28]\n",
      "Multiplication of multiple vector arrays is: [  2  68 162 128  10 204]\n"
     ],
     "output_type":"stream"
    }
   ],
   "metadata":{
    "datalore":{
     "node_id":"G08tbTOqdfcK8Z2MgkkqSo",
     "type":"CODE",
     "hide_input_from_viewers":true,
     "hide_output_from_viewers":true
    }
   }
  },
  {
   "cell_type":"code",
   "source":[
    "# let's try to add two arrays with different shapes\n",
    "arr_1d_c = np.array([1,2])\n",
    "\n",
    "try:\n",
    "    add_arr_1d = arr_1d_a + arr_1d_c\n",
    "except Exception as e:\n",
    "    print(f\"There is an error adding arrays: {e}\")"
   ],
   "execution_count":22,
   "outputs":[
    {
     "name":"stdout",
     "text":[
      "There is an error adding arrays: operands could not be broadcast together with shapes (6,) (2,) \n"
     ],
     "output_type":"stream"
    }
   ],
   "metadata":{
    "datalore":{
     "node_id":"ddafl293kjtRn2XAdrxJoI",
     "type":"CODE",
     "hide_input_from_viewers":true,
     "hide_output_from_viewers":true
    }
   }
  },
  {
   "cell_type":"code",
   "source":[
    "# let's now look at dot product of two vectors\n",
    "# Dot product is multiplication of every corresponding index element in two vectors and sum of the resulting values\n",
    "\n",
    "dot_product = np.dot(arr_1d_a, arr_1d_b)\n",
    "print(f\"Dot product of two vectors is: {dot_product}\")"
   ],
   "execution_count":24,
   "outputs":[
    {
     "name":"stdout",
     "text":[
      "Dot product of two vectors is: 574\n"
     ],
     "output_type":"stream"
    }
   ],
   "metadata":{
    "datalore":{
     "node_id":"eDWlt4066H4n4ikPXz26zf",
     "type":"CODE",
     "hide_input_from_viewers":true,
     "hide_output_from_viewers":true
    }
   }
  },
  {
   "cell_type":"code",
   "source":[
    "# now to further study the difference between processing time of NP dot vector vs traditional approach to dot product calculation\n",
    "\n",
    "# define a function to compute dot product\n",
    "\n",
    "def dot_product_calc(a,b):\n",
    "    size_a = a.shape[0]\n",
    "    size_b = b.shape[0]\n",
    "\n",
    "    if size_a == size_b:\n",
    "        dot_prod=0\n",
    "        for i in range(size_a):\n",
    "            ind_prod = a[i]*b[i]\n",
    "            dot_prod += ind_prod\n",
    "    else:\n",
    "        print(\"Cannot calculate dot product, size of the vector arrays is not same\")\n",
    "\n",
    "    return dot_prod"
   ],
   "execution_count":26,
   "outputs":[
    
   ],
   "metadata":{
    "datalore":{
     "node_id":"vnGcLDbzcatCQ8GadVp5fH",
     "type":"CODE",
     "hide_input_from_viewers":true,
     "hide_output_from_viewers":true
    }
   }
  },
  {
   "cell_type":"code",
   "source":[
    "# let's calculate dot product using our function\n",
    "print(f\"Dot product using custom defined function is: {dot_product_calc(arr_1d_a,arr_1d_b)}\")"
   ],
   "execution_count":27,
   "outputs":[
    {
     "name":"stdout",
     "text":[
      "Dot product using custom defined function is: 574\n"
     ],
     "output_type":"stream"
    }
   ],
   "metadata":{
    "datalore":{
     "node_id":"aBiFd1jwO6s6xfW2ZYxKyT",
     "type":"CODE",
     "hide_input_from_viewers":true,
     "hide_output_from_viewers":true
    }
   }
  },
  {
   "cell_type":"code",
   "source":[
    "# This is to ensure we get same set of random numbers everytime\n",
    "np.random.seed(1)\n",
    "\n",
    "rand_arr_1d_a = np.random.rand(1000000) # large array with random numbers\n",
    "rand_arr_1d_b = np.random.rand(1000000)\n",
    "\n",
    "start_time_np_dot = time.time()\n",
    "dot_prod_np = np.dot(rand_arr_1d_a, rand_arr_1d_b)\n",
    "finish_time_np_dot = time.time()\n",
    "\n",
    "start_time_cust_dot = time.time()\n",
    "dot_prod_cust = dot_product_calc(rand_arr_1d_a, rand_arr_1d_b)\n",
    "finish_time_cust_dot = time.time()\n",
    "\n",
    "print(f\"Time taken to process numpy dot calculation: {finish_time_np_dot-start_time_np_dot}\")\n",
    "print(f\"Time taken to process custom dot calculation: {finish_time_cust_dot-start_time_cust_dot}\")\n",
    "\n",
    "print(f\"NP dot calculation is {(finish_time_cust_dot-start_time_cust_dot)\/(finish_time_np_dot-start_time_np_dot):.4f} times faster than custom dot calculation\")\n",
    "\n",
    "# let's cleanup and remove these arrays from memory\n",
    "del(rand_arr_1d_a)\n",
    "del(rand_arr_1d_b)"
   ],
   "execution_count":33,
   "outputs":[
    {
     "name":"stdout",
     "text":[
      "Time taken to process numpy dot calculation: 0.0048143863677978516\n",
      "Time taken to process custom dot calculation: 0.4202547073364258\n",
      "NP dot calculation is 87.2914 times faster than custom dot calculation\n"
     ],
     "output_type":"stream"
    }
   ],
   "metadata":{
    "datalore":{
     "node_id":"amOOfrB4lIWOncR5g2ztvY",
     "type":"CODE",
     "hide_input_from_viewers":true,
     "hide_output_from_viewers":true
    }
   }
  },
  {
   "cell_type":"markdown",
   "source":[
    "**Vectorization provides a large speed up in this example. This is because NumPy makes better use of available data parallelism in the underlying hardware. GPU's and modern CPU's implement Single Instruction**"
   ],
   "attachments":{
    
   },
   "metadata":{
    "datalore":{
     "node_id":"ZvAAHdMqrOy46ChRDkkfN7",
     "type":"MD",
     "hide_input_from_viewers":true,
     "hide_output_from_viewers":true
    }
   }
  },
  {
   "cell_type":"code",
   "source":[
    "# let's not using vectorization to calculate dot product of a multidimensional array\n",
    "\n",
    "arr_2d_a = np.array([[1,2,3],[2,5,6],[7,5,4]])\n",
    "arr_2d_b = np.array([[2,2,3],[2,5,6],[7,5,4]])\n",
    "\n",
    "dot_2d_arr = np.dot(arr_2d_a,arr_2d_b)\n",
    "\n",
    "print(f\"Dot product of two 2d vectors is: {dot_2d_arr}\")"
   ],
   "execution_count":34,
   "outputs":[
    {
     "name":"stdout",
     "text":[
      "Dot product of two 2d vectors is: [[27 27 27]\n",
      " [56 59 60]\n",
      " [52 59 67]]\n"
     ],
     "output_type":"stream"
    }
   ],
   "metadata":{
    "datalore":{
     "node_id":"lE1FxdnJMQAFqaMDy46klY",
     "type":"CODE",
     "hide_input_from_viewers":true,
     "hide_output_from_viewers":true
    }
   }
  },
  {
   "cell_type":"code",
   "source":[
    
   ],
   "execution_count":null,
   "outputs":[
    
   ],
   "metadata":{
    "datalore":{
     "node_id":"Rre25VVaV3SdsWBCcGhCBU",
     "type":"CODE",
     "hide_input_from_viewers":true,
     "hide_output_from_viewers":true
    }
   }
  }
 ],
 "metadata":{
  "kernelspec":{
   "display_name":"Python",
   "language":"python",
   "name":"python"
  },
  "datalore":{
   "computation_mode":"JUPYTER",
   "package_manager":"pip",
   "base_environment":"default",
   "packages":[
    
   ],
   "report_row_ids":[
    
   ],
   "version":3
  }
 },
 "nbformat":4,
 "nbformat_minor":4
}