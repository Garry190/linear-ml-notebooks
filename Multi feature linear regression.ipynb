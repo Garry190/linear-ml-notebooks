{
 "cells":[
  {
   "cell_type":"markdown",
   "source":[
    "**In this notebook we are covering multi feature linear regression**"
   ],
   "attachments":{
    
   },
   "metadata":{
    "datalore":{
     "node_id":"zV940D0FWo5W2MrRlKyVJa",
     "type":"MD",
     "hide_input_from_viewers":true,
     "hide_output_from_viewers":true
    }
   }
  },
  {
   "cell_type":"code",
   "source":[
    "# let's start by importing set of libraries\n",
    "\n",
    "import numpy as np\n",
    "import matplotlib.pyplot as plt\n",
    "import copy, math \n",
    "\n",
    "# setting display print precision on numpy arrays\n",
    "np.set_printoptions(precision=2)"
   ],
   "execution_count":1,
   "outputs":[
    
   ],
   "metadata":{
    "datalore":{
     "node_id":"OZi5WyVjmOUFnUP1wfJ1K2",
     "type":"CODE",
     "hide_input_from_viewers":true,
     "hide_output_from_viewers":true
    }
   }
  },
  {
   "cell_type":"code",
   "source":[
    "# create traiing data set for housing example with multiple input factors including house size, number of bedrooms, \n",
    "# number of floors and age of home influencing price\n",
    "\n",
    "x_train = np.array([[2104, 5, 1, 45], [1416, 3, 2, 40], [852, 2, 1, 35]])\n",
    "y_train = np.array([460, 232, 178])"
   ],
   "execution_count":2,
   "outputs":[
    
   ],
   "metadata":{
    "datalore":{
     "node_id":"7mJUVQmdkPCyO7Bda6Osc3",
     "type":"CODE",
     "hide_input_from_viewers":true,
     "hide_output_from_viewers":true
    }
   }
  },
  {
   "cell_type":"code",
   "source":[
    "# let's display the input data and array properties\n",
    "print(f\"House properties including size, floors, bedrooms and age is: {x_train}\")\n",
    "print(f\"House properties array size is (m,n): {x_train.shape}\")\n",
    "print(f\"Total number of House properties are: {x_train.size}\")\n",
    "print(f\"Total number of House properties dimensions are: {x_train.ndim}\")\n",
    "print(\"\\n\")\n",
    "print(f\"House price based on given properties is: {y_train}\")\n",
    "print(f\"House properties array size is (m,n): {y_train.shape}\")\n",
    "print(f\"Total number of House prices are: {y_train.size}\")\n",
    "print(f\"Total number of House prices dimensions are: {y_train.ndim}\")"
   ],
   "execution_count":3,
   "outputs":[
    {
     "name":"stdout",
     "text":[
      "House properties including size, floors, bedrooms and age is: [[2104    5    1   45]\n",
      " [1416    3    2   40]\n",
      " [ 852    2    1   35]]\n",
      "House properties array size is (m,n): (3, 4)\n",
      "Total number of House properties are: 12\n",
      "Total number of House properties dimensions are: 2\n",
      "\n",
      "\n",
      "House price based on given properties is: [460 232 178]\n",
      "House properties array size is (m,n): (3,)\n",
      "Total number of House prices are: 3\n",
      "Total number of House prices dimensions are: 1\n"
     ],
     "output_type":"stream"
    }
   ],
   "metadata":{
    "datalore":{
     "node_id":"GT4uY2SIBe8vD7hY3qx7xh",
     "type":"CODE",
     "hide_input_from_viewers":true,
     "hide_output_from_viewers":true
    }
   }
  },
  {
   "cell_type":"code",
   "source":[
    "# now let's define w (weight) and b (bias) where w is vector and b is scalar\n",
    "\n",
    "b_init = 785.1811367994083\n",
    "w_init = np.array([ 0.39133535, 18.75376741, -53.36032453, -26.42131618])\n",
    "print(f\"w_init shape: {w_init.shape}, b_init type: {type(b_init)}\")"
   ],
   "execution_count":4,
   "outputs":[
    {
     "name":"stdout",
     "text":[
      "w_init shape: (4,), b_init type: <class 'float'>\n"
     ],
     "output_type":"stream"
    }
   ],
   "metadata":{
    "datalore":{
     "node_id":"VCa6AcEdGLGZjcwROvx6ip",
     "type":"CODE",
     "hide_input_from_viewers":true,
     "hide_output_from_viewers":true
    }
   }
  },
  {
   "cell_type":"code",
   "source":[
    "# in out linear regression model we can calculate y predict value as f(w,b) = x0*w0 + x1*w1 + x2*w2 ... + b\n",
    "# x0*w0 + x1*w1 + x2*w2 ... corresponds to the dot product of the x and w vectors = x.w\n",
    "\n",
    "# define a predict function for single row of training data\n",
    "\n",
    "def calc_pred_y(x, w, b):\n",
    " return np.dot(x, w) + b"
   ],
   "execution_count":5,
   "outputs":[
    
   ],
   "metadata":{
    "datalore":{
     "node_id":"fEaGRW7VKacYWUVT7g3fYg",
     "type":"CODE",
     "hide_input_from_viewers":true,
     "hide_output_from_viewers":true
    }
   }
  },
  {
   "cell_type":"code",
   "source":[
    "# let's calculate the predicted value for y for the input training data\n",
    "\n",
    "size = x_train.shape[0]\n",
    "y_predict = np.empty(size)\n",
    "\n",
    "for i in range(size):\n",
    "    y_predict[i] = calc_pred_y(x_train[i], w_init, b_init)\n",
    "\n",
    "print(y_predict)"
   ],
   "execution_count":6,
   "outputs":[
    {
     "name":"stdout",
     "text":[
      "[460. 232. 178.]\n"
     ],
     "output_type":"stream"
    }
   ],
   "metadata":{
    "datalore":{
     "node_id":"BjcKT2Guxaa8jbUqgK1G3k",
     "type":"CODE",
     "hide_input_from_viewers":true,
     "hide_output_from_viewers":true
    }
   }
  },
  {
   "cell_type":"code",
   "source":[
    "# Plot the predicted values based on multiple input features on graph\n",
    "\n",
    "# plot the graph for predicted price compared to size of the house\n",
    "# use slicing to pick first column of the 2d training data array\n",
    "plt.plot(x_train[:,0], y_train, marker='o', color='g')\n",
    "plt.scatter(x_train[:,0], y_predict, marker='x', color='r', label='predicted price')\n",
    "plt.title('Plot of house price compared to house size')\n",
    "plt.xlabel('Price of the house in (1000s $)')\n",
    "plt.ylabel('Size of the house in 100s (sqft)')\n",
    "plt.legend()\n",
    "plt.show()"
   ],
   "execution_count":7,
   "outputs":[
    {
     "data":{
      "image\/png":"[encoded data removed]"
     },
     "metadata":{
      "image\/png":{
       
      }
     },
     "output_type":"display_data"
    }
   ],
   "metadata":{
    "datalore":{
     "node_id":"wuuKIKSsNRJLjrKosMHn76",
     "type":"CODE",
     "hide_input_from_viewers":true,
     "hide_output_from_viewers":true
    }
   }
  },
  {
   "cell_type":"markdown",
   "source":[
    "**Above graph is an example how price is not a direct correlation from one input parameter and is influenced by multiple input parameters**"
   ],
   "attachments":{
    
   },
   "metadata":{
    "datalore":{
     "node_id":"G1Iyd8HCZve5fPQvod47NH",
     "type":"MD",
     "hide_input_from_viewers":true,
     "hide_output_from_viewers":true
    }
   }
  },
  {
   "cell_type":"code",
   "source":[
    "# let's define a function to compute the cost function\n",
    "\n",
    "def compute_cost(x, y, w, b):\n",
    "    x_size = x.shape[0]\n",
    "    dev_sum = 0\n",
    "    for ind in range(x_size):\n",
    "        dev_sum += np.square(calc_pred_y(x[ind],w,b) - y[ind])\n",
    "    func_j_wb = dev_sum\/(x_size*2)\n",
    "\n",
    "    return func_j_wb"
   ],
   "execution_count":8,
   "outputs":[
    
   ],
   "metadata":{
    "datalore":{
     "node_id":"oSZVRy97J7xArvyrofHIhU",
     "type":"CODE",
     "hide_input_from_viewers":true,
     "hide_output_from_viewers":true
    }
   }
  },
  {
   "cell_type":"code",
   "source":[
    "# let's calculate cost function for given data\n",
    "\n",
    "cost_j_wb = compute_cost(x_train, y_train, w_init,b_init)\n",
    "\n",
    "print(f\"Cost function result for given training data at optimal value of w is: {cost_j_wb}\")"
   ],
   "execution_count":9,
   "outputs":[
    {
     "name":"stdout",
     "text":[
      "Cost function result for given training data at optimal value of w is: 1.5578904428966628e-12\n"
     ],
     "output_type":"stream"
    }
   ],
   "metadata":{
    "datalore":{
     "node_id":"opTmixpBPyPPzkuZa48xxS",
     "type":"CODE",
     "hide_input_from_viewers":true,
     "hide_output_from_viewers":true
    }
   }
  },
  {
   "cell_type":"code",
   "source":[
    "# now let's calculate the gradient descent for the given training data and set of weight parameters, considering b is constant and scalar\n",
    "\n",
    "def compute_gradient(x, y, w, b):\n",
    "    x_size_m, x_size_n = x.shape\n",
    "\n",
    "    dj_dw = np.zeros(x_size_n)\n",
    "    dj_db = 0\n",
    "    for i in range(x_size_m):\n",
    "        err = (calc_pred_y(x[i], w, b) - y[i])\n",
    "        for j in range(x_size_n):\n",
    "            dj_dw[j] = dj_dw[j] + err * (x[i,j])\n",
    "        dj_db += err\n",
    "\n",
    "    return dj_dw\/x_size_m, dj_db\/x_size_m"
   ],
   "execution_count":10,
   "outputs":[
    
   ],
   "metadata":{
    "datalore":{
     "node_id":"SjtdIn4Cw7GDf2vw4pB8wK",
     "type":"CODE",
     "hide_input_from_viewers":true,
     "hide_output_from_viewers":true
    }
   }
  },
  {
   "cell_type":"code",
   "source":[
    "# Now let's compute and display the gradient\n",
    "\n",
    "dj_dw, dj_db = compute_gradient(x_train, y_train, w_init, b_init)\n",
    "print(f\" Gradient with respect to initial weight and weight of training data is: {dj_dw}\")\n",
    "print(f\" Gradient with respect to initial weight and bias of training data is: {dj_db}\")"
   ],
   "execution_count":11,
   "outputs":[
    {
     "name":"stdout",
     "text":[
      " Gradient with respect to initial weight and weight of training data is: [-2.73e-03 -6.27e-06 -2.22e-06 -6.92e-05]\n",
      " Gradient with respect to initial weight and bias of training data is: -1.6739251501955248e-06\n"
     ],
     "output_type":"stream"
    }
   ],
   "metadata":{
    "datalore":{
     "node_id":"sMH9avfGnzt6LUDuh60HHf",
     "type":"CODE",
     "hide_input_from_viewers":true,
     "hide_output_from_viewers":true
    }
   }
  },
  {
   "cell_type":"code",
   "source":[
    "# now let's implement the gradient descent function\n",
    "\n",
    "def gradient_descent(x, y, w_in, b_in, alpha, cost_function, gradient_function, num_iter):\n",
    "\n",
    "    j_history = []\n",
    "    \n",
    "    w = copy.deepcopy(w_in)\n",
    "    b = b_in\n",
    "\n",
    "    for i in range(num_iter):\n",
    "\n",
    "        dj_dw, dj_db = gradient_function(x, y, w, b)\n",
    "\n",
    "        w = w - alpha * dj_dw\n",
    "        b = b - alpha * dj_db\n",
    "\n",
    "        if i < 100000:\n",
    "            j_history.append(cost_function(x,y,w,b))\n",
    "\n",
    "        if i% math.ceil(num_iter\/10) == 0:\n",
    "                 print(f\"Iteration {i:4d}: Cost {j_history[-1]:8.2f}   \")\n",
    "        \n",
    "    return w, b, j_history #return final w,b and J history for graphing"
   ],
   "execution_count":13,
   "outputs":[
    
   ],
   "metadata":{
    "datalore":{
     "node_id":"Cg5XFS0L9opAOY8ABrweOv",
     "type":"CODE",
     "hide_input_from_viewers":true,
     "hide_output_from_viewers":true
    }
   }
  },
  {
   "cell_type":"code",
   "source":[
    "# now let's put our gradient descent to use \n",
    "\n",
    "initial_w = np.zeros_like(w_init)\n",
    "initial_b = 0\n",
    "\n",
    "iterations = 1000\n",
    "alpha = 5.0e-7\n",
    "\n",
    "# run gradient descent \n",
    "w_final, b_final, J_hist = gradient_descent(x_train, y_train, initial_w, initial_b,\n",
    "                                                    alpha, compute_cost, compute_gradient, \n",
    "                                                    iterations)\n",
    "\n",
    "print(f\"b,w found by gradient descent: {b_final:0.2f},{w_final} \")\n",
    "\n"
   ],
   "execution_count":15,
   "outputs":[
    {
     "name":"stdout",
     "text":[
      "Iteration    0: Cost  2529.46   \n",
      "Iteration  100: Cost   695.99   \n",
      "Iteration  200: Cost   694.92   \n",
      "Iteration  300: Cost   693.86   \n",
      "Iteration  400: Cost   692.81   \n",
      "Iteration  500: Cost   691.77   \n",
      "Iteration  600: Cost   690.73   \n",
      "Iteration  700: Cost   689.71   \n",
      "Iteration  800: Cost   688.70   \n",
      "Iteration  900: Cost   687.69   \n",
      "b,w found by gradient descent: -0.00,[ 0.2   0.   -0.01 -0.07] \n"
     ],
     "output_type":"stream"
    }
   ],
   "metadata":{
    "datalore":{
     "node_id":"6q3iPfKvoWerqNL363akFP",
     "type":"CODE",
     "hide_input_from_viewers":true,
     "hide_output_from_viewers":true
    }
   }
  },
  {
   "cell_type":"code",
   "source":[
    "# now let's print the final predicted values based on new values for w and b\n",
    "\n",
    "m,_ = x_train.shape\n",
    "for i in range(m):\n",
    "    print(f\"prediction: {np.dot(x_train[i], w_final) + b_final:0.2f}, target value: {y_train[i]}\")"
   ],
   "execution_count":20,
   "outputs":[
    {
     "name":"stdout",
     "text":[
      "prediction: 426.19, target value: 460\n",
      "prediction: 286.17, target value: 232\n",
      "prediction: 171.47, target value: 178\n"
     ],
     "output_type":"stream"
    }
   ],
   "metadata":{
    "datalore":{
     "node_id":"kN5M1bJb33PEkH35fFJLpT",
     "type":"CODE",
     "hide_input_from_viewers":true,
     "hide_output_from_viewers":true
    }
   }
  },
  {
   "cell_type":"code",
   "source":[
    
   ],
   "execution_count":null,
   "outputs":[
    
   ],
   "metadata":{
    "datalore":{
     "node_id":"KbVd5Q7JLKMYvkY4EgWgnW",
     "type":"CODE",
     "hide_input_from_viewers":true,
     "hide_output_from_viewers":true
    }
   }
  },
  {
   "cell_type":"code",
   "source":[
    
   ],
   "execution_count":null,
   "outputs":[
    
   ],
   "metadata":{
    "datalore":{
     "node_id":"QT7uDLucQ5gctRGBH4cshr",
     "type":"CODE",
     "hide_input_from_viewers":true,
     "hide_output_from_viewers":true
    }
   }
  }
 ],
 "metadata":{
  "kernelspec":{
   "display_name":"Python",
   "language":"python",
   "name":"python"
  },
  "datalore":{
   "computation_mode":"JUPYTER",
   "package_manager":"pip",
   "base_environment":"default",
   "packages":[
    
   ],
   "report_row_ids":[
    
   ],
   "version":3
  }
 },
 "nbformat":4,
 "nbformat_minor":4
}