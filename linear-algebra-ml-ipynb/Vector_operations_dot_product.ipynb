{
 "cells":[
  {
   "cell_type":"markdown",
   "source":[
    "**In this notebook we will vector operations including sum, multiplication and dot product**"
   ],
   "attachments":{
    
   },
   "metadata":{
    "datalore":{
     "node_id":"dgS96Y5ceG7IwdE10v42in",
     "type":"MD",
     "hide_input_from_viewers":true,
     "hide_output_from_viewers":true
    }
   }
  },
  {
   "cell_type":"code",
   "source":[
    "# let's start by importing the required libraries\n",
    "\n",
    "import numpy as np\n",
    "import time"
   ],
   "execution_count":18,
   "outputs":[
    
   ],
   "metadata":{
    "datalore":{
     "node_id":"ucOqR0H3WJYR57LgKqZ9zi",
     "type":"CODE",
     "hide_input_from_viewers":true,
     "hide_output_from_viewers":true
    }
   }
  },
  {
   "cell_type":"code",
   "source":[
    "# let's take an example of a vector\n",
    "\n",
    "v = np.array([[1],[3]])\n",
    "\n",
    "v_size = v.shape[0]\n",
    "magnitude = 0 \n",
    "for i in range(v_size):\n",
    "    magnitude += np.square(v[i])\n",
    "\n",
    "magnitude = np.sqrt(magnitude)\n",
    "\n",
    "print(f\"For vector {v}, magnitude is: {magnitude}\")"
   ],
   "execution_count":11,
   "outputs":[
    {
     "name":"stdout",
     "text":[
      "For vector [[1]\n",
      " [3]], magnitude is: [3.16227766]\n"
     ],
     "output_type":"stream"
    }
   ],
   "metadata":{
    "datalore":{
     "node_id":"JhzwFPkW2YJa13VDjz28Jk",
     "type":"CODE",
     "hide_input_from_viewers":true,
     "hide_output_from_viewers":true
    }
   }
  },
  {
   "cell_type":"code",
   "source":[
    "# now let's multiply our vector with a scalar value\n",
    "\n",
    "scalar_val = 50\n",
    "magnitude_mult = 0\n",
    "v_1 = v * scalar_val\n",
    "for i in range(v_size):\n",
    "    magnitude_mult += np.square(v_1[i])\n",
    "\n",
    "magnitude_mult = np.sqrt(magnitude_mult)\n",
    "\n",
    "print(f\"For vector {v_1}, magnitude is: {magnitude_mult}\")\n",
    "\n",
    "# let's also try to multiply magnitude directly by the scalar\n",
    "\n",
    "magnitude_mult_1 = magnitude * scalar_val\n",
    "\n",
    "print(f\"For vector {v_1}, magnitude is: {magnitude_mult_1}\")\n"
   ],
   "execution_count":12,
   "outputs":[
    {
     "name":"stdout",
     "text":[
      "For vector [[ 50]\n",
      " [150]], magnitude is: [158.11388301]\n",
      "For vector [[ 50]\n",
      " [150]], magnitude is: [158.11388301]\n"
     ],
     "output_type":"stream"
    }
   ],
   "metadata":{
    "datalore":{
     "node_id":"GuaEiUgZA6dxajmOMcDDE3",
     "type":"CODE",
     "hide_input_from_viewers":true,
     "hide_output_from_viewers":true
    }
   }
  },
  {
   "cell_type":"code",
   "source":[
    "# now let's compute sum of two vectors\n",
    "\n",
    "v = np.array([[1],[3]])\n",
    "w = np.array([[4],[-1]])\n",
    "\n",
    "sum_vec = v + w\n",
    "\n",
    "print(f\"Sum of vector {v} and vector {w} is: {sum_vec}\")"
   ],
   "execution_count":14,
   "outputs":[
    {
     "name":"stdout",
     "text":[
      "Sum of vector [[1]\n",
      " [3]] and vector [[ 4]\n",
      " [-1]] is: [[5]\n",
      " [2]]\n"
     ],
     "output_type":"stream"
    }
   ],
   "metadata":{
    "datalore":{
     "node_id":"1MJX1i41Jknz65VP8aTbfk",
     "type":"CODE",
     "hide_input_from_viewers":true,
     "hide_output_from_viewers":true
    }
   }
  },
  {
   "cell_type":"code",
   "source":[
    "# now let's compute the norm of the vector which is used interchangibly with magnitude of the vector\n",
    "\n",
    "norm_v = np.linalg.norm(v)\n",
    "\n",
    "print(f\"Norm of the vector {v} is: {norm_v}\")"
   ],
   "execution_count":15,
   "outputs":[
    {
     "name":"stdout",
     "text":[
      "Norm of the vector [[1]\n",
      " [3]] is: 3.1622776601683795\n"
     ],
     "output_type":"stream"
    }
   ],
   "metadata":{
    "datalore":{
     "node_id":"H6V7yhIL2uCE1KPojSSzVK",
     "type":"CODE",
     "hide_input_from_viewers":true,
     "hide_output_from_viewers":true
    }
   }
  },
  {
   "cell_type":"code",
   "source":[
    "# now let's calculate the dot product of two vectors\n",
    "# dot product is a scalar computation of two vectors to determine projection of one vector on another\n",
    "A = np.array([[1, 2], [3, 4]])\n",
    "B = np.array([[5, 6], [7, 8]])\n",
    "# Matrix multiplication\n",
    "result = np.dot(A, B)\n",
    "#dot_prod = np.dot(v.reshape(1,2),w)\n",
    "\n",
    "print(f\"Dot product of vector {v} and vector {w} is: {result}\")\n"
   ],
   "execution_count":19,
   "outputs":[
    {
     "name":"stdout",
     "text":[
      "Dot product of vector [[1]\n",
      " [3]] and vector [[ 4]\n",
      " [-1]] is: [[19 22]\n",
      " [43 50]]\n"
     ],
     "output_type":"stream"
    }
   ],
   "metadata":{
    "datalore":{
     "node_id":"9s7AC3oL8F7ger2VRhPinZ",
     "type":"CODE",
     "hide_input_from_viewers":true,
     "hide_output_from_viewers":true
    }
   }
  },
  {
   "cell_type":"code",
   "source":[
    "# let's calculate dot product of two vectors using np dot function and @ operator\n",
    "\n",
    "a = np.random.rand(1000000)\n",
    "b = np.random.rand(1000000)\n",
    "\n",
    "time_start = time.time()\n",
    "dot_prod = np.dot(a,b)\n",
    "time_stop = time.time()\n",
    "\n",
    "print(f\"Time taken to calculate dot_product {dot_prod} is : {time_stop-time_start}\")"
   ],
   "execution_count":20,
   "outputs":[
    {
     "name":"stdout",
     "text":[
      "Time taken to calculate dot_product 250203.84421967238 is : 0.004907131195068359\n"
     ],
     "output_type":"stream"
    }
   ],
   "metadata":{
    "datalore":{
     "node_id":"ls1tyiR92aV3qRo57qjwu6",
     "type":"CODE",
     "hide_input_from_viewers":true,
     "hide_output_from_viewers":true
    }
   }
  },
  {
   "cell_type":"code",
   "source":[
    "# let's calculate dot product of two vectors using np dot function and @ operator\n",
    "\n",
    "a = np.random.rand(1000000)\n",
    "b = np.random.rand(1000000)\n",
    "\n",
    "time_start = time.time()\n",
    "dot_prod = a @ b\n",
    "time_stop = time.time()\n",
    "\n",
    "print(f\"Time taken to calculate dot_product {dot_prod} is : {time_stop-time_start}\")"
   ],
   "execution_count":22,
   "outputs":[
    {
     "name":"stdout",
     "text":[
      "Time taken to calculate dot_product 249861.64146470415 is : 0.0008220672607421875\n"
     ],
     "output_type":"stream"
    }
   ],
   "metadata":{
    "datalore":{
     "node_id":"PIlt0vE8K227CHzZSC9bmu",
     "type":"CODE",
     "hide_input_from_viewers":true,
     "hide_output_from_viewers":true
    }
   }
  },
  {
   "cell_type":"code",
   "source":[
    "# Calculating vector similarity is one of the fundamental concepts of NLP \n",
    "\n",
    "A = np.array([[1, 2], [3, 4]])\n",
    "B = np.array([[5, 6], [7, 8]])\n",
    "\n",
    "dot_prod = np.dot(A, B)\n",
    "\n",
    "vect_sim = dot_prod\/(np.linalg.norm(A)*np.linalg.norm(B))\n",
    "\n",
    "print(f\"Vector similarity between A & B is: {vect_sim}\")"
   ],
   "execution_count":24,
   "outputs":[
    {
     "name":"stdout",
     "text":[
      "Vector similarity between A & B is: [[0.26297735 0.30450009]\n",
      " [0.59515927 0.69204567]]\n"
     ],
     "output_type":"stream"
    }
   ],
   "metadata":{
    "datalore":{
     "node_id":"lA3fnPUHZcqmeuyxiDTK53",
     "type":"CODE",
     "hide_input_from_viewers":true,
     "hide_output_from_viewers":true
    }
   }
  },
  {
   "cell_type":"markdown",
   "source":[
    "**Vector similarity is used in many practical applications from NLPs to Classification to Reccommendations**"
   ],
   "attachments":{
    
   },
   "metadata":{
    "datalore":{
     "node_id":"OO7npmOt1sYII3rQ9gTkF2",
     "type":"MD",
     "hide_input_from_viewers":true,
     "hide_output_from_viewers":true
    }
   }
  }
 ],
 "metadata":{
  "kernelspec":{
   "display_name":"Python",
   "language":"python",
   "name":"python"
  },
  "datalore":{
   "computation_mode":"JUPYTER",
   "package_manager":"pip",
   "base_environment":"default",
   "packages":[
    
   ],
   "report_row_ids":[
    
   ],
   "version":3
  }
 },
 "nbformat":4,
 "nbformat_minor":4
}