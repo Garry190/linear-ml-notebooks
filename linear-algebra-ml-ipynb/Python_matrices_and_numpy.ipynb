{
 "cells":[
  {
   "cell_type":"code",
   "source":[
    "import numpy as np\n",
    "\n",
    "# Numpy arrays are more compact in storage and efficient in processing than Python lists\n",
    "# Numpy only store similar data types elements in arrays\n",
    "\n",
    "one_d_arr = np.array([10,12])\n",
    "\n",
    "print(f\"Numpy one dimensional array example: {one_d_arr}\")"
   ],
   "execution_count":3,
   "outputs":[
    {
     "name":"stdout",
     "text":[
      "Numpy one dimensional array example: [10 12]\n"
     ],
     "output_type":"stream"
    }
   ],
   "metadata":{
    "datalore":{
     "node_id":"W4agjeDuFMNaor5OGByfCw",
     "type":"CODE",
     "hide_input_from_viewers":true,
     "hide_output_from_viewers":true
    }
   }
  },
  {
   "cell_type":"markdown",
   "source":[
    "**Let's look at different ways to initialize arrays**"
   ],
   "attachments":{
    
   },
   "metadata":{
    "datalore":{
     "node_id":"EWYg1s1nJqr8zQla5EKG5Y",
     "type":"MD",
     "hide_input_from_viewers":true,
     "hide_output_from_viewers":true
    }
   }
  },
  {
   "cell_type":"code",
   "source":[
    "# Different ways to create arrays in numpy\n",
    "\n",
    "# 1 accessing array function and passing it a list of elements\n",
    "one_d_arr_type1 = np.array([10,12,13,15])\n",
    "\n",
    "print(f\"1. Create arrays using array function np.array([10,12,13,15]): {one_d_arr_type1}\")\n",
    "\n",
    "# 2 accessing arange function and passing it integer and it sets array values starting 0 till the integer provided\n",
    "one_d_arr_type2 = np.arange(3)\n",
    "\n",
    "print(f\"2. Create arrays using arange function np.arange(3): {one_d_arr_type2}\")\n",
    "\n",
    "# 3 accessing arange function and passing it start integer, end integer and interval\n",
    "one_d_arr_type3 = np.arange(1,20,3)\n",
    "\n",
    "print(f\"3. Create arrays using arange function np.arange(1,20,3): {one_d_arr_type3}\")\n",
    "\n",
    "# 4 accessing linspace function and passing it starting integer, end integer and number of equal spaced integers to include\n",
    "one_d_arr_type4 = np.linspace(1,1500,10,dtype=int)\n",
    "\n",
    "print(f\"4. Create arrays using linspace function np.linspace(1,1500,10): {one_d_arr_type4}\")"
   ],
   "execution_count":16,
   "outputs":[
    {
     "name":"stdout",
     "text":[
      "1. Create arrays using array function np.array([10,12,13,15]): [10 12 13 15]\n",
      "2. Create arrays using arange function np.arange(3): [0 1 2]\n",
      "3. Create arrays using arange function np.arange(1,20,3): [ 1  4  7 10 13 16 19]\n",
      "4. Create arrays using linspace function np.linspace(1,1500,10): [   1  167  334  500  667  833 1000 1166 1333 1500]\n"
     ],
     "output_type":"stream"
    }
   ],
   "metadata":{
    "datalore":{
     "node_id":"981oYAUjjjM6eB4op0QB2G",
     "type":"CODE",
     "hide_input_from_viewers":true,
     "hide_output_from_viewers":true
    }
   }
  },
  {
   "cell_type":"code",
   "source":[
    "# Now let's try and create an array of characters\n",
    "\n",
    "char_arr = np.array(['This is string of characters contained in array of characters'])\n",
    "\n",
    "print(f\"The character array is:{char_arr}\")\n",
    "\n",
    "# Let's detect the data type of the array\n",
    "\n",
    "print(f\"The data type of the character array is: {char_arr.dtype}\")"
   ],
   "execution_count":19,
   "outputs":[
    {
     "name":"stdout",
     "text":[
      "The character array is:['This is string of characters contained in array of characters']\n",
      "The data type of the character array is: <U61\n"
     ],
     "output_type":"stream"
    }
   ],
   "metadata":{
    "datalore":{
     "node_id":"cruFEyNRpvLbkSfLG97NsL",
     "type":"CODE",
     "hide_input_from_viewers":true,
     "hide_output_from_viewers":true
    }
   }
  },
  {
   "cell_type":"markdown",
   "source":[
    "**Let's look at different ways to instantiate arrays**"
   ],
   "attachments":{
    
   },
   "metadata":{
    "datalore":{
     "node_id":"kNsOUwJuZdL5YymBasRqnf",
     "type":"MD",
     "hide_input_from_viewers":true,
     "hide_output_from_viewers":true
    }
   }
  },
  {
   "cell_type":"code",
   "source":[
    "# Now let's look at different ways to initiate an array\n",
    "\n",
    "empty_arr = np.empty(10, dtype=int) # Initiates an empty array with 10 placeholder elements\n",
    "zeros_arr = np.zeros(10, dtype=int) # Initiates an array with 10 zero value elements\n",
    "ones_arr  = np.ones(10, dtype=int) # Initiates an array with 10 one value elements\n",
    "random_arr = np.random.rand(3) # Initiates an array with 3 random numbers from 0 to 1\n",
    "\n",
    "# Empty array contains inital value from memory location where that array is allocated\n",
    "print(f\"1. Printing empty array: {empty_arr}\") \n",
    "\n",
    "print(f\"2. Printing zeros array: {zeros_arr}\")\n",
    "print(f\"3. Printing ones array: {ones_arr}\")\n",
    "print(f\"4. Printing random array: {random_arr}\")\n"
   ],
   "execution_count":24,
   "outputs":[
    {
     "name":"stdout",
     "text":[
      "1. Printing empty array: [1 1 1 1 1 1 1 1 1 1]\n",
      "2. Printing zeros array: [0 0 0 0 0 0 0 0 0 0]\n",
      "3. Printing ones array: [1 1 1 1 1 1 1 1 1 1]\n",
      "4. Printing random array: [0.78585963 0.30374588 0.2388243 ]\n"
     ],
     "output_type":"stream"
    }
   ],
   "metadata":{
    "datalore":{
     "node_id":"f835R5TiCucTLJtIWB5ozQ",
     "type":"CODE",
     "hide_input_from_viewers":true,
     "hide_output_from_viewers":true
    }
   }
  },
  {
   "cell_type":"markdown",
   "source":[
    "**Now let's look at multidimensional arrays**"
   ],
   "attachments":{
    
   },
   "metadata":{
    "datalore":{
     "node_id":"EsYSC4Y2UZfTDYJCflnKLB",
     "type":"MD",
     "hide_input_from_viewers":true,
     "hide_output_from_viewers":true
    }
   }
  },
  {
   "cell_type":"code",
   "source":[
    "# First let's create a two dimensional array\n",
    "\n",
    "# one simple way to create is below\n",
    "two_d_arr = np.array([[1,2,3],[300,500,700]])\n",
    "print(f\"This is a simple example of a 2 D array: {two_d_arr}\")\n",
    "\n",
    "# another way to create is by reshaping an existing one dim array into two dim array\n",
    "one_d_arr = np.array([1,2,3,4])\n",
    "two_d_arr_res = np.reshape(one_d_arr, (4,1)) # here 2,3 is the dimensions or in other words number of rows and columns of new array\n",
    "\n",
    "print(f\"This is another way to create two d array by reshaping one d array: {two_d_arr_res}\")"
   ],
   "execution_count":9,
   "outputs":[
    {
     "name":"stdout",
     "text":[
      "This is a simple example of a 2 D array: [[  1   2   3]\n",
      " [300 500 700]]\n",
      "This is another way to create two d array by reshaping one d array: [[1]\n",
      " [2]\n",
      " [3]\n",
      " [4]]\n"
     ],
     "output_type":"stream"
    }
   ],
   "metadata":{
    "datalore":{
     "node_id":"dBpcuOP8FT13Su3FWEmApX",
     "type":"CODE",
     "hide_input_from_viewers":true,
     "hide_output_from_viewers":true
    }
   }
  },
  {
   "cell_type":"code",
   "source":[
    "# Now let's try to fetch a few properties of the multi dimension array which is by default of type ndarray when initialized\n",
    "\n",
    "mul_dim_arr = np.array([[1,2,3],[300,500,700],[500,700,900]])\n",
    "mul_dim_arr_shap = mul_dim_arr.shape\n",
    "mul_dim_arr_ndim = mul_dim_arr.ndim\n",
    "mul_dim_arr_size = mul_dim_arr.size\n",
    "\n",
    "print(f\"The size of the multi dimension array is: {mul_dim_arr_size}\")\n",
    "print(f\"The shape of the multi dimension array is: {mul_dim_arr_shap}\")\n",
    "print(f\"The number of dimensions of the multi dimension array is: {mul_dim_arr_ndim}\")"
   ],
   "execution_count":13,
   "outputs":[
    {
     "name":"stdout",
     "text":[
      "The size of the multi dimension array is: 9\n",
      "The shape of the multi dimension array is: (3, 3)\n",
      "The number of dimensions of the multi dimension array is: 2\n"
     ],
     "output_type":"stream"
    }
   ],
   "metadata":{
    "datalore":{
     "node_id":"MJGL9fqFwVb5msmBWPyZBl",
     "type":"CODE",
     "hide_input_from_viewers":true,
     "hide_output_from_viewers":true
    }
   }
  },
  {
   "cell_type":"markdown",
   "source":[
    "**Now let's look at some array math operations**"
   ],
   "attachments":{
    
   },
   "metadata":{
    "datalore":{
     "node_id":"WkUCmxnFtc6rMvVnuULaPo",
     "type":"MD",
     "hide_input_from_viewers":true,
     "hide_output_from_viewers":true
    }
   }
  },
  {
   "cell_type":"code",
   "source":[
    "# Let's initialize two one d arrays\n",
    "one_d_arr_1 = np.array([1,2,3])\n",
    "one_d_arr_2 = np.array([4,5,6])\n",
    "\n",
    "# adding both arrays\n",
    "addition_arr = one_d_arr_1 + one_d_arr_2\n",
    "print(f\"Addition of two one d arrays is: {addition_arr}\")\n",
    "\n",
    "# subtracting both arrays\n",
    "subtraction_arr = one_d_arr_2 - one_d_arr_1\n",
    "print(f\"Subtraction of two one d arrays is: {subtraction_arr}\")\n",
    "\n",
    "# multiplication of both arrays\n",
    "multiplication_arr = one_d_arr_1 * one_d_arr_2\n",
    "print(f\"Multiplication of two one d arrays is: {multiplication_arr}\")\n",
    "\n",
    "# arrays can also be multiplied by single scalar values\n",
    "mult_ex_2_arr = one_d_arr_1 * 3\n",
    "print(f\"Multiplication of one d arrays with a scalar 3 is: {mult_ex_2_arr}\")"
   ],
   "execution_count":16,
   "outputs":[
    {
     "name":"stdout",
     "text":[
      "Addition of two one d arrays is: [5 7 9]\n",
      "Subtraction of two one d arrays is: [3 3 3]\n",
      "Multiplication of two one d arrays is: [ 4 10 18]\n",
      "Multiplication of one d arrays with a scalar 3 is: [3 6 9]\n"
     ],
     "output_type":"stream"
    }
   ],
   "metadata":{
    "datalore":{
     "node_id":"ho4j4GNg9DaL5x7FAubQLa",
     "type":"CODE",
     "hide_input_from_viewers":true,
     "hide_output_from_viewers":true
    }
   }
  },
  {
   "cell_type":"markdown",
   "source":[
    "**Now let's understand the indexing process in arrays**"
   ],
   "attachments":{
    
   },
   "metadata":{
    "datalore":{
     "node_id":"RhR9MUcp8gKG6TBUskQi4G",
     "type":"MD",
     "hide_input_from_viewers":true,
     "hide_output_from_viewers":true
    }
   }
  },
  {
   "cell_type":"code",
   "source":[
    "# let's search an array by a specific index, in this case a one d array\n",
    "one_d_arr = np.array([1,3,4,64,3,6,2,2])\n",
    "index_of_5 = one_d_arr[5]\n",
    "print(f\"Element at index 5 in one d array is: {index_of_5}\")\n",
    "\n",
    "two_d_arr = np.array([[1,3,2,4,5,6],[53,43,23,43,45,56],[233,3232,23,1323,44,424]])\n",
    "index_of_3_4 = two_d_arr[2,4]\n",
    "print(f\"Element at index 5 in one d array is: {two_d_arr}\")\n",
    "                     "
   ],
   "execution_count":23,
   "outputs":[
    {
     "name":"stdout",
     "text":[
      "Element at index 5 in one d array is: 6\n",
      "Element at index 5 in one d array is: [[   1    3    2    4    5    6]\n",
      " [  53   43   23   43   45   56]\n",
      " [ 233 3232   23 1323   44  424]]\n"
     ],
     "output_type":"stream"
    }
   ],
   "metadata":{
    "datalore":{
     "node_id":"9NFosAnlYJSk50G2929Chv",
     "type":"CODE",
     "hide_input_from_viewers":true,
     "hide_output_from_viewers":true
    }
   }
  },
  {
   "cell_type":"markdown",
   "source":[
    "**Now let's understand the concept of slicing an array**"
   ],
   "attachments":{
    
   },
   "metadata":{
    "datalore":{
     "node_id":"EuBZ46fAeQz88cxJHoiztm",
     "type":"MD",
     "hide_input_from_viewers":true,
     "hide_output_from_viewers":true
    }
   }
  },
  {
   "cell_type":"code",
   "source":[
    "\n",
    "# Initialize a one d array\n",
    "arr_one_d = np.array([1,3,4,5,61,3,3,4,5])\n",
    "\n",
    "# slice when start and end of the index are given\n",
    "slice_one_d_arr = arr_one_d[3:5]\n",
    "print(f\"Sliced version of one d array from 3 to 5 index is: {slice_one_d_arr}\")\n",
    "\n",
    "# slice when start is given and end of the index is not given, it assumes end value is n-1\n",
    "slice_one_d_arr = arr_one_d[2:]\n",
    "print(f\"Sliced version of one d array from 2 to end of index is: {slice_one_d_arr}\")\n",
    "\n",
    "# slice when start is not given and end of the index is given, it assumes start is 0th element\n",
    "slice_one_d_arr = arr_one_d[:7]\n",
    "print(f\"Sliced version of one d array from 0 to 7 is: {slice_one_d_arr}\")\n",
    "\n",
    "# slice when start is given and end of the index is given, and step is given\n",
    "slice_one_d_arr = arr_one_d[0:9:2]\n",
    "print(f\"Sliced version of one d array from 0 to 9 with step of 2 is: {slice_one_d_arr}\")\n",
    "\n",
    "# slice when start and end of the index is not given, and step is given\n",
    "slice_one_d_arr = arr_one_d[::2]\n",
    "print(f\"Sliced version of one d array when start and end is not given and step is 2: {slice_one_d_arr}\")\n",
    "\n",
    "# when start is not given, end is not given and step is not given, in either of the cases array will be equal to original\n",
    "print(arr_one_d == arr_one_d[:])\n",
    "print(arr_one_d == arr_one_d[::])\n",
    "\n",
    "# Now let's test the slicing on a two dimensional array\n",
    "two_d_arr = ([[1,2,3,4,5],[5,6,7,8,9],[10,11,12,13,14]])\n",
    "slice_two_d_arr = two_d_arr[1:2]\n",
    "print(f\"Slicing of a two d array produces: {slice_two_d_arr}\")\n",
    "\n",
    "# Now let's test the slicing on a two dimensional array when only step is given\n",
    "two_d_arr = ([[1,2,3,4,5],[5,6,7,8,9],[10,11,12,13,14]])\n",
    "slice_two_d_arr = two_d_arr[::2]\n",
    "print(f\"Slicing of a two d array produces: {slice_two_d_arr}\")\n",
    "\n",
    "# Now let's test the slicing on a two dimensional array and extracting a specific column, 1 below\n",
    "two_d_arr = np.array([[1,2,3,4,5],[5,6,7,8,9],[10,11,12,13,14]])\n",
    "slice_two_d_arr = two_d_arr[:,1]\n",
    "print(f\"Slicing of a two d array produces: {slice_two_d_arr}\")"
   ],
   "execution_count":48,
   "outputs":[
    {
     "name":"stdout",
     "text":[
      "Sliced version of one d array from 3 to 5 index is: [ 5 61]\n",
      "Sliced version of one d array from 2 to end of index is: [ 4  5 61  3  3  4  5]\n",
      "Sliced version of one d array from 0 to 7 is: [ 1  3  4  5 61  3  3]\n",
      "Sliced version of one d array from 0 to 9 with step of 2 is: [ 1  4 61  3  5]\n",
      "Sliced version of one d array when start and end is not given and step is 2: [ 1  4 61  3  5]\n",
      "[ True  True  True  True  True  True  True  True  True]\n",
      "[ True  True  True  True  True  True  True  True  True]\n",
      "Slicing of a two d array produces: [[5, 6, 7, 8, 9]]\n",
      "Slicing of a two d array produces: [[1, 2, 3, 4, 5], [10, 11, 12, 13, 14]]\n",
      "Slicing of a two d array produces: [ 2  6 11]\n"
     ],
     "output_type":"stream"
    }
   ],
   "metadata":{
    "datalore":{
     "node_id":"VWqS87Joox6wB8GoNDywEW",
     "type":"CODE",
     "hide_input_from_viewers":true,
     "hide_output_from_viewers":true
    }
   }
  },
  {
   "cell_type":"markdown",
   "source":[
    "**Now let's understand the concept of stacking arrays**"
   ],
   "attachments":{
    
   },
   "metadata":{
    "datalore":{
     "node_id":"5jQgICv6G15pJLfraoN3pm",
     "type":"MD",
     "hide_input_from_viewers":true,
     "hide_output_from_viewers":true
    }
   }
  },
  {
   "cell_type":"code",
   "source":[
    "one_d_arr_1 = np.array([1,3,4])\n",
    "one_d_arr_2 = np.array([4,5,6])\n",
    "\n",
    "one_d_arr_hstack = np.hstack((one_d_arr_1,one_d_arr_2))\n",
    "print(f\"Horizontal stacking of one d array is: {one_d_arr_hstack}\")\n",
    "\n",
    "one_d_arr_vstack = np.vstack((one_d_arr_1,one_d_arr_2))\n",
    "print(f\"Vertical stacking of one d array is: {one_d_arr_vstack}\")\n",
    "\n",
    "two_d_arr_1 = np.array([[1,3,4],[5,6,7]])\n",
    "two_d_arr_2 = np.array([[200,300,400],[600,700,900]])\n",
    "\n",
    "two_d_arr_hstack = np.hstack((two_d_arr_1,two_d_arr_2))\n",
    "print(f\"Horizontal stacking of two d array is: {two_d_arr_hstack}\")\n",
    "\n",
    "two_d_arr_vstack = np.vstack((two_d_arr_1,two_d_arr_2))\n",
    "print(f\"Vertical stacking of two d array is: {two_d_arr_vstack}\")\n"
   ],
   "execution_count":57,
   "outputs":[
    {
     "name":"stdout",
     "text":[
      "Horizontal stacking of one d array is: [1 3 4 4 5 6]\n",
      "Vertical stacking of one d array is: [[1 3 4]\n",
      " [4 5 6]]\n",
      "Horizontal stacking of two d array is: [[  1   3   4 200 300 400]\n",
      " [  5   6   7 600 700 900]]\n",
      "Vertical stacking of two d array is: [[  1   3   4]\n",
      " [  5   6   7]\n",
      " [200 300 400]\n",
      " [600 700 900]]\n"
     ],
     "output_type":"stream"
    }
   ],
   "metadata":{
    "datalore":{
     "node_id":"1DDKAK9rysS7uY3PIpv5Kq",
     "type":"CODE",
     "hide_input_from_viewers":true,
     "hide_output_from_viewers":true
    }
   }
  },
  {
   "cell_type":"code",
   "source":[
    
   ],
   "execution_count":null,
   "outputs":[
    
   ],
   "metadata":{
    "datalore":{
     "node_id":"ioJr9D1eDJoiBGBEyBvzj9",
     "type":"CODE",
     "hide_input_from_viewers":true,
     "hide_output_from_viewers":true
    }
   }
  }
 ],
 "metadata":{
  "kernelspec":{
   "display_name":"Python",
   "language":"python",
   "name":"python"
  },
  "datalore":{
   "computation_mode":"JUPYTER",
   "package_manager":"pip",
   "base_environment":"default",
   "packages":[
    
   ],
   "report_row_ids":[
    
   ],
   "version":3
  }
 },
 "nbformat":4,
 "nbformat_minor":4
}