{
 "cells":[
  {
   "cell_type":"markdown",
   "source":[
    "**This notebook covers work on 3 variable linear system equations**"
   ],
   "attachments":{
    
   },
   "metadata":{
    "datalore":{
     "node_id":"ui6rzgBjtkuViBo8FGbLeE",
     "type":"MD",
     "hide_input_from_viewers":true,
     "hide_output_from_viewers":true
    }
   }
  },
  {
   "cell_type":"code",
   "source":[
    "# let's start by importing the required libraries\n",
    "\n",
    "import numpy as np\n",
    "import copy"
   ],
   "execution_count":11,
   "outputs":[
    
   ],
   "metadata":{
    "datalore":{
     "node_id":"7ZPT0ecrl4JV7SPz5KI6tg",
     "type":"CODE",
     "hide_input_from_viewers":true,
     "hide_output_from_viewers":true
    }
   }
  },
  {
   "cell_type":"code",
   "source":[
    "# let's define a 2d array with 3 variables\n",
    "\n",
    "eq_arr = np.array([\n",
    "        [4, -3, 1],\n",
    "        [2, 1, 3],\n",
    "        [-1, 2, -5]\n",
    "    ], dtype=np.dtype(float))\n",
    "\n",
    "# let's define a 1d array with results from eq array\n",
    "\n",
    "res_arr = np.array([-10, 0, 17], dtype=np.dtype(float))\n",
    "\n",
    "# let's print the matrices\n",
    "\n",
    "print(f\"Equation Matrix: \\n {eq_arr} \\n\")\n",
    "print(f\"Result Matrix: \\n {res_arr} \\n\")"
   ],
   "execution_count":3,
   "outputs":[
    {
     "name":"stdout",
     "text":[
      "Equation Matrix: \n",
      " [[ 4. -3.  1.]\n",
      " [ 2.  1.  3.]\n",
      " [-1.  2. -5.]] \n",
      "\n",
      "Result Matrix: \n",
      " [-10.   0.  17.] \n",
      "\n"
     ],
     "output_type":"stream"
    }
   ],
   "metadata":{
    "datalore":{
     "node_id":"gGxHzDAP7R6SZhkpWgrI7R",
     "type":"CODE",
     "hide_input_from_viewers":true,
     "hide_output_from_viewers":true
    }
   }
  },
  {
   "cell_type":"code",
   "source":[
    "# now let's check out the shape of matrices and derive dimension\n",
    "\n",
    "sh_eq_arr = eq_arr.shape\n",
    "sh_res_arr = res_arr.shape\n",
    "\n",
    "print(f\"Shape of Equation Matrix: \\n {sh_eq_arr} \\n\")\n",
    "print(f\"Shape of Result Matrix: \\n {sh_res_arr} \\n\")\n",
    "\n",
    "ndim_eq_arr = np.ndim(eq_arr)\n",
    "ndim_res_arr = np.ndim(res_arr)\n",
    "\n",
    "print(f\"Dimensions of Equation Matrix: \\n {ndim_eq_arr} \\n\")\n",
    "print(f\"Dimensions of Result Matrix: \\n {ndim_res_arr} \\n\")"
   ],
   "execution_count":5,
   "outputs":[
    {
     "name":"stdout",
     "text":[
      "Shape of Equation Matrix: \n",
      " (3, 3) \n",
      "\n",
      "Shape of Result Matrix: \n",
      " (3,) \n",
      "\n",
      "Dimensions of Equation Matrix: \n",
      " 2 \n",
      "\n",
      "Dimensions of Result Matrix: \n",
      " 1 \n",
      "\n"
     ],
     "output_type":"stream"
    }
   ],
   "metadata":{
    "datalore":{
     "node_id":"RdWWEQ55oWIpQoD9WshpoC",
     "type":"CODE",
     "hide_input_from_viewers":true,
     "hide_output_from_viewers":true
    }
   }
  },
  {
   "cell_type":"code",
   "source":[
    "# now let's use linear algebra function to solve the linear equation\n",
    "\n",
    "sol_arr = np.linalg.solve(eq_arr, res_arr)\n",
    "\n",
    "print(f\"Solution of the linear equation is: {sol_arr}\")"
   ],
   "execution_count":6,
   "outputs":[
    {
     "name":"stdout",
     "text":[
      "Solution of the linear equation is: [ 1.  4. -2.]\n"
     ],
     "output_type":"stream"
    }
   ],
   "metadata":{
    "datalore":{
     "node_id":"TJOt20fKR8hTdkUsJ4ZqWW",
     "type":"CODE",
     "hide_input_from_viewers":true,
     "hide_output_from_viewers":true
    }
   }
  },
  {
   "cell_type":"code",
   "source":[
    "# now let's use linear algebra function to derive the determinant of the linear equation\n",
    "\n",
    "det_arr = np.linalg.det(eq_arr)\n",
    "\n",
    "print(f\"Determinant of the linear equation is: {det_arr:0.2f}\")"
   ],
   "execution_count":8,
   "outputs":[
    {
     "name":"stdout",
     "text":[
      "Determinant of the linear equation is: -60.00\n"
     ],
     "output_type":"stream"
    }
   ],
   "metadata":{
    "datalore":{
     "node_id":"gGabOHqHuINZ3gDjfR2xuP",
     "type":"CODE",
     "hide_input_from_viewers":true,
     "hide_output_from_viewers":true
    }
   }
  },
  {
   "cell_type":"code",
   "source":[
    "# now let's reshape the arrays and stack them together to prepare them for row reduction\n",
    "\n",
    "stck_eq_arr = np.hstack((eq_arr,res_arr.reshape(3,1)))\n",
    "\n",
    "print(f\"Restacked array is: {stck_eq_arr}\")\n"
   ],
   "execution_count":10,
   "outputs":[
    {
     "name":"stdout",
     "text":[
      "Restacked array is: [[  4.  -3.   1. -10.]\n",
      " [  2.   1.   3.   0.]\n",
      " [ -1.   2.  -5.  17.]]\n"
     ],
     "output_type":"stream"
    }
   ],
   "metadata":{
    "datalore":{
     "node_id":"TMuiBOa8e96k0K2czXx7MR",
     "type":"CODE",
     "hide_input_from_viewers":true,
     "hide_output_from_viewers":true
    }
   }
  },
  {
   "cell_type":"code",
   "source":[
    "# now let's define 3 specific functions to support our reduced row echelon form\n",
    "\n",
    "# let's start with multiple of a scalar for a particular row\n",
    "\n",
    "def multiply_row(orig_arr, row_index, multiple_scalar):\n",
    "    cp_orig_arr = np.copy(orig_arr)\n",
    "    cp_orig_arr[row_index] = orig_arr[row_index] * multiple_scalar\n",
    "    return cp_orig_arr"
   ],
   "execution_count":27,
   "outputs":[
    
   ],
   "metadata":{
    "datalore":{
     "node_id":"geteJ5Fk4Nb8ZVpjh441Tl",
     "type":"CODE",
     "hide_input_from_viewers":true,
     "hide_output_from_viewers":true
    }
   }
  },
  {
   "cell_type":"code",
   "source":[
    "# now let's print the original and modified array after scalar multiple\n",
    "\n",
    "print(f\"Original array is: \\n {stck_eq_arr} \\n\")\n",
    "mod_eq_arr = multiply_row(stck_eq_arr, 1, 2)\n",
    "print(f\"Modified array after change is: \\n {mod_eq_arr} \\n\")"
   ],
   "execution_count":28,
   "outputs":[
    {
     "name":"stdout",
     "text":[
      "Original array is: \n",
      " [[  4.  -3.   1. -10.]\n",
      " [  2.   1.   3.   0.]\n",
      " [ -1.   2.  -5.  17.]] \n",
      "\n",
      "Modified array after change is: \n",
      " [[  4.  -3.   1. -10.]\n",
      " [  4.   2.   6.   0.]\n",
      " [ -1.   2.  -5.  17.]] \n",
      "\n"
     ],
     "output_type":"stream"
    }
   ],
   "metadata":{
    "datalore":{
     "node_id":"C8JQeSXvDzweU1K9Alg1E9",
     "type":"CODE",
     "hide_input_from_viewers":true,
     "hide_output_from_viewers":true
    }
   }
  },
  {
   "cell_type":"code",
   "source":[
    "# now let's do addition of two rows and add option for scalar multiple as well\n",
    "\n",
    "def add_rows(orig_arr, row_index_1, row_index_2, multiple_scalar):\n",
    "    cp_orig_arr = np.copy(orig_arr)\n",
    "    cp_orig_arr[row_index_2] = multiple_scalar * orig_arr[row_index_1] + orig_arr[row_index_2]\n",
    "    return cp_orig_arr"
   ],
   "execution_count":29,
   "outputs":[
    
   ],
   "metadata":{
    "datalore":{
     "node_id":"a4zKEvRdcY3Xzto31wcvDm",
     "type":"CODE",
     "hide_input_from_viewers":true,
     "hide_output_from_viewers":true
    }
   }
  },
  {
   "cell_type":"code",
   "source":[
    "# now let's print the original and modified array after addition and scalar multiple\n",
    "\n",
    "print(f\"Original array is: \\n {stck_eq_arr} \\n\")\n",
    "mod_eq_arr = add_rows(stck_eq_arr, 2, 1, 2)\n",
    "print(f\"Modified array after change is: \\n {mod_eq_arr} \\n\")"
   ],
   "execution_count":30,
   "outputs":[
    {
     "name":"stdout",
     "text":[
      "Original array is: \n",
      " [[  4.  -3.   1. -10.]\n",
      " [  2.   1.   3.   0.]\n",
      " [ -1.   2.  -5.  17.]] \n",
      "\n",
      "Modified array after change is: \n",
      " [[  4.  -3.   1. -10.]\n",
      " [  0.   5.  -7.  34.]\n",
      " [ -1.   2.  -5.  17.]] \n",
      "\n"
     ],
     "output_type":"stream"
    }
   ],
   "metadata":{
    "datalore":{
     "node_id":"okirzwJQOCRLV8AjCqHD7r",
     "type":"CODE",
     "hide_input_from_viewers":true,
     "hide_output_from_viewers":true
    }
   }
  },
  {
   "cell_type":"code",
   "source":[
    "# now let's do another function to swap two rows\n",
    "\n",
    "def swap_rows(orig_arr, row_index_1, row_index_2):\n",
    "    cp_orig_arr = np.copy(orig_arr)\n",
    "    cp_orig_arr[[row_index_1,row_index_2]] = cp_orig_arr[[row_index_2,row_index_1]]\n",
    "    return cp_orig_arr"
   ],
   "execution_count":31,
   "outputs":[
    
   ],
   "metadata":{
    "datalore":{
     "node_id":"AZNlfJan4ItQnqJTwRmqrW",
     "type":"CODE",
     "hide_input_from_viewers":true,
     "hide_output_from_viewers":true
    }
   }
  },
  {
   "cell_type":"code",
   "source":[
    "# now let's print the original and modified array after swapping rows\n",
    "\n",
    "print(f\"Original array is: \\n {stck_eq_arr} \\n\")\n",
    "mod_eq_arr = swap_rows(stck_eq_arr, 2, 1)\n",
    "print(f\"Modified array after change is: \\n {mod_eq_arr} \\n\")"
   ],
   "execution_count":32,
   "outputs":[
    {
     "name":"stdout",
     "text":[
      "Original array is: \n",
      " [[  4.  -3.   1. -10.]\n",
      " [  2.   1.   3.   0.]\n",
      " [ -1.   2.  -5.  17.]] \n",
      "\n",
      "Modified array after change is: \n",
      " [[  4.  -3.   1. -10.]\n",
      " [ -1.   2.  -5.  17.]\n",
      " [  2.   1.   3.   0.]] \n",
      "\n"
     ],
     "output_type":"stream"
    }
   ],
   "metadata":{
    "datalore":{
     "node_id":"RYTApwqCcjQYkOgWnS0CEs",
     "type":"CODE",
     "hide_input_from_viewers":true,
     "hide_output_from_viewers":true
    }
   }
  },
  {
   "cell_type":"code",
   "source":[
    
   ],
   "execution_count":null,
   "outputs":[
    
   ],
   "metadata":{
    "datalore":{
     "node_id":"6pj2ZoXJretXm179iDVcUX",
     "type":"CODE",
     "hide_input_from_viewers":true,
     "hide_output_from_viewers":true
    }
   }
  }
 ],
 "metadata":{
  "kernelspec":{
   "display_name":"Python",
   "language":"python",
   "name":"python"
  },
  "datalore":{
   "computation_mode":"JUPYTER",
   "package_manager":"pip",
   "base_environment":"default",
   "packages":[
    
   ],
   "report_row_ids":[
    
   ],
   "version":3
  }
 },
 "nbformat":4,
 "nbformat_minor":4
}