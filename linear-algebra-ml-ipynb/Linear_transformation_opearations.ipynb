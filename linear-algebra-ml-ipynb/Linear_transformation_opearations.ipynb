{
 "cells":[
  {
   "cell_type":"markdown",
   "source":[
    "**This notebook will cover linear transformation operations**"
   ],
   "attachments":{
    
   },
   "metadata":{
    "datalore":{
     "node_id":"SeazmhZmS7pxD5ZMY6HydJ",
     "type":"MD",
     "hide_input_from_viewers":true,
     "hide_output_from_viewers":true
    }
   }
  },
  {
   "cell_type":"code",
   "source":[
    "# import required libraries\n",
    "\n",
    "import numpy as np\n",
    "# OpenCV library for image transformations.\n",
    "import cv2"
   ],
   "execution_count":1,
   "outputs":[
    
   ],
   "metadata":{
    "datalore":{
     "node_id":"GBI2wrQWuX4vxCWk9vdEne",
     "type":"CODE",
     "hide_input_from_viewers":true,
     "hide_output_from_viewers":true
    }
   }
  },
  {
   "cell_type":"code",
   "source":[
    "# let's defined a linear transformation function\n",
    "\n",
    "def linear_transformation(v):\n",
    "    w = np.zeros((3,1))\n",
    "    w[0,0] = 3 * v[0,0]\n",
    "    w[2,0] = -2 * v[2,0]\n",
    "    return w\n",
    "\n",
    "v = np.array([[3],[5],[1]])\n",
    "\n",
    "linear_trans = linear_transformation(v)\n",
    "\n",
    "print(f\"Linear transformation of {v} is {linear_trans}\")"
   ],
   "execution_count":2,
   "outputs":[
    {
     "name":"stdout",
     "text":[
      "Linear transformation of [[3]\n",
      " [5]\n",
      " [1]] is [[ 9.]\n",
      " [ 0.]\n",
      " [-2.]]\n"
     ],
     "output_type":"stream"
    }
   ],
   "metadata":{
    "datalore":{
     "node_id":"UeNEcsQO1fwddpPBSZUKlB",
     "type":"CODE",
     "hide_input_from_viewers":true,
     "hide_output_from_viewers":true
    }
   }
  },
  {
   "cell_type":"code",
   "source":[
    "# let's try a few examples of linear transformation\n",
    "v = np.array([[3],[5],[1]])\n",
    "scalar_val = 7\n",
    "print(f\"1. Example of vector multiple: {v*v}\")\n",
    "print(f\"1. Example of linear transformation with scalar multiple: {scalar_val * linear_transformation(v)}\")\n",
    "print(f\"1. Example of linear transformation with scalar multiple before Transformation: {linear_transformation(scalar_val*v)}\")\n",
    "print(f\"1. Example of linear transformation with vector addition: {linear_transformation(v+v)}\")\n",
    "print(f\"1. Example of linear transformation with transformation of vector addition: {linear_transformation(v)+linear_transformation(v)}\")"
   ],
   "execution_count":4,
   "outputs":[
    {
     "name":"stdout",
     "text":[
      "1. Example of vector multiple: [[ 9]\n",
      " [25]\n",
      " [ 1]]\n",
      "1. Example of linear transformation with scalar multiple: [[ 63.]\n",
      " [  0.]\n",
      " [-14.]]\n",
      "1. Example of linear transformation with scalar multiple before Transformation: [[ 63.]\n",
      " [  0.]\n",
      " [-14.]]\n",
      "1. Example of linear transformation with vector addition: [[18.]\n",
      " [ 0.]\n",
      " [-4.]]\n",
      "1. Example of linear transformation with transformation of vector addition: [[18.]\n",
      " [ 0.]\n",
      " [-4.]]\n"
     ],
     "output_type":"stream"
    }
   ],
   "metadata":{
    "datalore":{
     "node_id":"qsJ5EMSpJeg4rLiV21HEmk",
     "type":"CODE",
     "hide_input_from_viewers":true,
     "hide_output_from_viewers":true
    }
   }
  },
  {
   "cell_type":"code",
   "source":[
    "# now let's try to find third matrix with matrix multiplication or dot product\n",
    "\n",
    "def L(v):\n",
    "    A = np.array([[3,0], [0,0], [0,-2]])\n",
    "    w = np.dot(A,v)\n",
    "    return w\n",
    "\n",
    "v = np.array([[3],[5]])\n",
    "\n",
    "print(f\"Resulting matrix from matrix multiplication is: {L(v)}\")"
   ],
   "execution_count":5,
   "outputs":[
    {
     "name":"stdout",
     "text":[
      "Resulting matrix from matrix multiplication is: [[  9]\n",
      " [  0]\n",
      " [-10]]\n"
     ],
     "output_type":"stream"
    }
   ],
   "metadata":{
    "datalore":{
     "node_id":"0Ae808RXN2ENpeNnKu7PmM",
     "type":"CODE",
     "hide_input_from_viewers":true,
     "hide_output_from_viewers":true
    }
   }
  },
  {
   "cell_type":"code",
   "source":[
    "# now let's dig deeper into transformations and understand horizontal scaling or hstack function\n",
    "\n",
    "def T_hscaling(v):\n",
    "    A = np.array([[2,0], [0,1]])\n",
    "    w = np.dot(A,v)\n",
    "    return w\n",
    "\n",
    "def transform_vectors(T_hscal, v3, v4):\n",
    "    v_t = np.hstack((v3,v4))\n",
    "    W_t = T_hscal(v_t)\n",
    "    return W_t\n",
    "\n",
    "v1 = np.array([[1],[0]])\n",
    "v2 = np.array([[0],[1]])\n",
    "\n",
    "print(f\"Transformed vector after horizontal scaling is: {transform_vectors(T_hscaling, v1, v2)}\")\n",
    "\n"
   ],
   "execution_count":12,
   "outputs":[
    {
     "name":"stdout",
     "text":[
      "Transformed vector after horizontal scaling is: [[2 0]\n",
      " [0 1]]\n"
     ],
     "output_type":"stream"
    }
   ],
   "metadata":{
    "datalore":{
     "node_id":"ztsnsZYRSkuAizxqi059AG",
     "type":"CODE",
     "hide_input_from_viewers":true,
     "hide_output_from_viewers":true
    }
   }
  },
  {
   "cell_type":"code",
   "source":[
    
   ],
   "execution_count":null,
   "outputs":[
    
   ],
   "metadata":{
    "datalore":{
     "node_id":"PqM0ivHsG2pqagXJJ7K3nc",
     "type":"CODE",
     "hide_input_from_viewers":true,
     "hide_output_from_viewers":true
    }
   }
  }
 ],
 "metadata":{
  "kernelspec":{
   "display_name":"Python",
   "language":"python",
   "name":"python"
  },
  "datalore":{
   "computation_mode":"JUPYTER",
   "package_manager":"pip",
   "base_environment":"default",
   "packages":[
    
   ],
   "report_row_ids":[
    
   ],
   "version":3
  }
 },
 "nbformat":4,
 "nbformat_minor":4
}