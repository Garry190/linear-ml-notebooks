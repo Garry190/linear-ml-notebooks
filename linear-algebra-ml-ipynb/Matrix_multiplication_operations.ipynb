{
 "cells":[
  {
   "cell_type":"markdown",
   "source":[
    "**This notebook will cover matrix multiplication operations**"
   ],
   "attachments":{
    
   },
   "metadata":{
    "datalore":{
     "node_id":"BYYbmVt7xxYFg59Tf7Zj58",
     "type":"MD",
     "hide_input_from_viewers":true,
     "hide_output_from_viewers":true
    }
   }
  },
  {
   "cell_type":"code",
   "source":[
    "# import the libraries\n",
    "\n",
    "import numpy as np"
   ],
   "execution_count":2,
   "outputs":[
    
   ],
   "metadata":{
    "datalore":{
     "node_id":"o9lbu19Y3OupcI3seQO4zH",
     "type":"CODE",
     "hide_input_from_viewers":true,
     "hide_output_from_viewers":true
    }
   }
  },
  {
   "cell_type":"code",
   "source":[
    "# let's define sample data set\n",
    "\n",
    "A = np.array([[4, 9, 9], [9, 1, 6], [9, 2, 3]])\n",
    "print(\"Matrix A (3 by 3):\\n\", A)\n",
    "\n",
    "B = np.array([[2, 2], [5, 7], [4, 4]])\n",
    "print(\"Matrix B (3 by 2):\\n\", B)"
   ],
   "execution_count":3,
   "outputs":[
    {
     "name":"stdout",
     "text":[
      "Matrix A (3 by 3):\n",
      " [[4 9 9]\n",
      " [9 1 6]\n",
      " [9 2 3]]\n",
      "Matrix B (3 by 2):\n",
      " [[2 2]\n",
      " [5 7]\n",
      " [4 4]]\n"
     ],
     "output_type":"stream"
    }
   ],
   "metadata":{
    "datalore":{
     "node_id":"Wkorh1Hlt31FpeOcGWkTf0",
     "type":"CODE",
     "hide_input_from_viewers":true,
     "hide_output_from_viewers":true
    }
   }
  },
  {
   "cell_type":"code",
   "source":[
    "dot_prod = np.dot(A,B)\n",
    "matr_mult = np.matmul(A, B)\n",
    "\n",
    "print(f\"Dot product of the matrices is: {dot_prod}\")\n",
    "print(f\"Matrix multiplication of the matrices is: {matr_mult}\")"
   ],
   "execution_count":4,
   "outputs":[
    {
     "name":"stdout",
     "text":[
      "Dot product of the matrices is: [[ 89 107]\n",
      " [ 47  49]\n",
      " [ 40  44]]\n",
      "Matrix multiplication of the matrices is: [[ 89 107]\n",
      " [ 47  49]\n",
      " [ 40  44]]\n"
     ],
     "output_type":"stream"
    }
   ],
   "metadata":{
    "datalore":{
     "node_id":"f8ICAa6g9G0YOG7AUnY6eD",
     "type":"CODE",
     "hide_input_from_viewers":true,
     "hide_output_from_viewers":true
    }
   }
  },
  {
   "cell_type":"code",
   "source":[
    "# now let's reverse the matrices and try to calculate dot product and multiplication again\n",
    "\n",
    "try:\n",
    "    dot_prod = np.dot(B,A)\n",
    "    print(f\"Dot product of the matrices is: {dot_prod}\")\n",
    "except ValueError as err:\n",
    "    print(err)\n",
    "\n",
    "try:\n",
    "    matr_mult = np.matmul(B, A)\n",
    "    print(f\"Matrix multiplication of the matrices is: {matr_mult}\")\n",
    "except ValueError as err:\n",
    "    print(err)"
   ],
   "execution_count":10,
   "outputs":[
    {
     "name":"stdout",
     "text":[
      "shapes (3,2) and (3,3) not aligned: 2 (dim 1) != 3 (dim 0)\n",
      "matmul: Input operand 1 has a mismatch in its core dimension 0, with gufunc signature (n?,k),(k,m?)->(n?,m?) (size 3 is different from 2)\n"
     ],
     "output_type":"stream"
    }
   ],
   "metadata":{
    "datalore":{
     "node_id":"MH8BguMduaWMPbMXry6mUt",
     "type":"CODE",
     "hide_input_from_viewers":true,
     "hide_output_from_viewers":true
    }
   }
  },
  {
   "cell_type":"code",
   "source":[
    "# now let's try subtraction from matrice\n",
    "\n",
    "result = A - 3 \n",
    "print(f\"Reduced matrice is : {result}\")"
   ],
   "execution_count":7,
   "outputs":[
    {
     "name":"stdout",
     "text":[
      "Reduced matrice is : [[ 1  6  6]\n",
      " [ 6 -2  3]\n",
      " [ 6 -1  0]]\n"
     ],
     "output_type":"stream"
    }
   ],
   "metadata":{
    "datalore":{
     "node_id":"VPvhWGROzew1rvQpkc6TLS",
     "type":"CODE",
     "hide_input_from_viewers":true,
     "hide_output_from_viewers":true
    }
   }
  },
  {
   "cell_type":"code",
   "source":[
    
   ],
   "execution_count":null,
   "outputs":[
    
   ],
   "metadata":{
    "datalore":{
     "node_id":"29ittUPaaWqoiwhj4Mx9si",
     "type":"CODE",
     "hide_input_from_viewers":true,
     "hide_output_from_viewers":true
    }
   }
  }
 ],
 "metadata":{
  "kernelspec":{
   "display_name":"Python",
   "language":"python",
   "name":"python"
  },
  "datalore":{
   "computation_mode":"JUPYTER",
   "package_manager":"pip",
   "base_environment":"default",
   "packages":[
    
   ],
   "report_row_ids":[
    
   ],
   "version":3
  }
 },
 "nbformat":4,
 "nbformat_minor":4
}