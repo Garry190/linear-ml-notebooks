{
 "cells":[
  {
   "cell_type":"markdown",
   "source":[
    "**Unilateral calculation of linear regression with the changing value of single input parameter x**\n",
    "\n",
    "**- In this example we are calculating value of Housing Price (y) in 1000s of $ with chaging value of Size of House in sq. ft (x)**"
   ],
   "attachments":{
    
   },
   "metadata":{
    "datalore":{
     "node_id":"Walpk0LhnLYOGWBvAjgrlS",
     "type":"MD",
     "hide_input_from_viewers":false,
     "hide_output_from_viewers":false,
     "report_properties":{
      "rowId":"Zn59H0N5Pjopwh9hDf6OX7"
     }
    }
   }
  },
  {
   "cell_type":"code",
   "source":[
    "print(\"This is first print message using python on Jupyter Notebooks\")"
   ],
   "execution_count":47,
   "outputs":[
    {
     "name":"stdout",
     "text":[
      "This is first print message using python on Jupyter Notebooks\n"
     ],
     "output_type":"stream"
    }
   ],
   "metadata":{
    "datalore":{
     "node_id":"xxEHCds67SUA9ocrAPhQDT",
     "type":"CODE",
     "hide_input_from_viewers":false,
     "hide_output_from_viewers":false,
     "report_properties":{
      "rowId":"AmICm3f3bAdy6sdee2gjnt"
     }
    }
   }
  },
  {
   "cell_type":"code",
   "source":[
    "name = \"partap\"\n",
    "print(f\"This is first exercise using python on Jupyter Notebooks by {name}\")"
   ],
   "execution_count":48,
   "outputs":[
    {
     "name":"stdout",
     "text":[
      "This is first exercise using python on Jupyter Notebooks by partap\n"
     ],
     "output_type":"stream"
    }
   ],
   "metadata":{
    "datalore":{
     "node_id":"Yhf6HUwg7DlXpvQFdmyse7",
     "type":"CODE",
     "hide_input_from_viewers":false,
     "hide_output_from_viewers":false,
     "report_properties":{
      "rowId":"29ntSCN5IiNPxDsljd4BOo"
     }
    }
   }
  },
  {
   "cell_type":"markdown",
   "source":[
    "**First Linear Regression Practical Example (Predicting Housing Prices)**"
   ],
   "attachments":{
    
   },
   "metadata":{
    "datalore":{
     "node_id":"Vo8FEpMcDlpSKpMynOgl4X",
     "type":"MD",
     "hide_input_from_viewers":false,
     "hide_output_from_viewers":false,
     "report_properties":{
      "rowId":"sH0ckNnF38zxNFUwuqRsqt"
     }
    }
   }
  },
  {
   "cell_type":"code",
   "source":[
    "import numpy as np\n",
    "import matplotlib.pyplot as plt\n",
    "\n",
    "#plt.style.use(\".\/deeplearning.mplstyle\")\n",
    "\n",
    "x_train=np.array([1.0,2.0])\n",
    "y_train=np.array([300,500])\n",
    "\n",
    "print(f\"x_train is: {x_train}\")\n",
    "print(f\"y_train is: {y_train}\")"
   ],
   "execution_count":49,
   "outputs":[
    {
     "name":"stdout",
     "text":[
      "x_train is: [1. 2.]\n",
      "y_train is: [300 500]\n"
     ],
     "output_type":"stream"
    }
   ],
   "metadata":{
    "datalore":{
     "node_id":"rQzCRcIU8xHCUutMl2p6Os",
     "type":"CODE",
     "hide_input_from_viewers":false,
     "hide_output_from_viewers":false,
     "report_properties":{
      "rowId":"OP72tsTfx1ct4uWxmMLH7r"
     }
    }
   }
  },
  {
   "cell_type":"markdown",
   "source":[
    "**Shape and size of the training data**"
   ],
   "attachments":{
    
   },
   "metadata":{
    "datalore":{
     "node_id":"bndSVdTLfC2RgGHK1PWHsC",
     "type":"MD",
     "hide_input_from_viewers":false,
     "hide_output_from_viewers":false,
     "report_properties":{
      "rowId":"ptUEtO1GPpBqc20KVSNncK"
     }
    }
   }
  },
  {
   "cell_type":"code",
   "source":[
    "print(f\"The shape of the training data is: {x_train.shape}\")\n",
    "\n",
    "m=x_train.shape[0]\n",
    "\n",
    "print(f\"The size of the training data is: {m}\")\n",
    "\n",
    "m=len(x_train)\n",
    "\n",
    "print(f\"The size of the training data can also be calculated using the python length function: {m}\")"
   ],
   "execution_count":50,
   "outputs":[
    {
     "name":"stdout",
     "text":[
      "The shape of the training data is: (2,)\n",
      "The size of the training data is: 2\n",
      "The size of the training data can also be calculated using the python length function: 2\n"
     ],
     "output_type":"stream"
    }
   ],
   "metadata":{
    "datalore":{
     "node_id":"PK2iXIuy1bIMMkCk5vi7OW",
     "type":"CODE",
     "hide_input_from_viewers":false,
     "hide_output_from_viewers":false,
     "report_properties":{
      "rowId":"oTQg6PZm6iOiqUdLLkPD6Q"
     }
    }
   }
  },
  {
   "cell_type":"markdown",
   "source":[
    "**Training data offsets**"
   ],
   "attachments":{
    
   },
   "metadata":{
    "datalore":{
     "node_id":"oat8gAyOeQqcYWiO6h7ct6",
     "type":"MD",
     "hide_input_from_viewers":false,
     "hide_output_from_viewers":false,
     "report_properties":{
      "rowId":"vIusVhigmiNI3zu3CMq8JF"
     }
    }
   }
  },
  {
   "cell_type":"code",
   "source":[
    "i=0\n",
    "x_i=x_train[i]\n",
    "y_i=y_train[i]\n",
    "\n",
    "print(f\"The offset function (x^({i}),y^({i})) produces ({x_i},{y_i})\")"
   ],
   "execution_count":51,
   "outputs":[
    {
     "name":"stdout",
     "text":[
      "The offset function (x^(0),y^(0)) produces (1.0,300)\n"
     ],
     "output_type":"stream"
    }
   ],
   "metadata":{
    "datalore":{
     "node_id":"N6RZHeNfrXaNyJRAItns9o",
     "type":"CODE",
     "hide_input_from_viewers":false,
     "hide_output_from_viewers":false,
     "report_properties":{
      "rowId":"VNSKNUn0UvZ5zV3U0z0Cbh"
     }
    }
   }
  },
  {
   "cell_type":"markdown",
   "source":[
    "**Using MatPlot lib to scatter and label data along x & y axis**"
   ],
   "attachments":{
    
   },
   "metadata":{
    "datalore":{
     "node_id":"lzJLo64SYn1hENL3TCsqzU",
     "type":"MD",
     "hide_input_from_viewers":false,
     "hide_output_from_viewers":false,
     "report_properties":{
      "rowId":"fKtF6IqZzFJXE0oFSTaB7C"
     }
    }
   }
  },
  {
   "cell_type":"code",
   "source":[
    "plt.scatter(x_train,y_train, marker=\"x\", c=\"r\")\n",
    "plt.title(\"Housing prices in the US\")\n",
    "plt.ylabel(\"Housing price (in 1000s of dollars)\")\n",
    "plt.xlabel(\"House size (1000 sq ft\")\n",
    "plt.show()"
   ],
   "execution_count":52,
   "outputs":[
    {
     "data":{
      "image\/png":"[encoded data removed]"
     },
     "metadata":{
      "image\/png":{
       
      }
     },
     "output_type":"display_data"
    }
   ],
   "metadata":{
    "datalore":{
     "node_id":"15dz9IDK4t1gfekdnX0Lvp",
     "type":"CODE",
     "hide_input_from_viewers":false,
     "hide_output_from_viewers":false,
     "report_properties":{
      "rowId":"EVtTFkfXkvv3vPp0yJmV1j"
     }
    }
   }
  },
  {
   "cell_type":"markdown",
   "source":[
    "**For Linear Regression calculation let's set the weight (w) & bias (b)**"
   ],
   "attachments":{
    
   },
   "metadata":{
    "datalore":{
     "node_id":"yWvkuOmqs5n5oTMImNzjIX",
     "type":"MD",
     "hide_input_from_viewers":false,
     "hide_output_from_viewers":false,
     "report_properties":{
      "rowId":"bPCoyGaP8mWzLB9DJBzHsr"
     }
    }
   }
  },
  {
   "cell_type":"code",
   "source":[
    "w=100\n",
    "b=100\n",
    "print(f\"Weight is set to: {w} \\nBias is set to: {b}\")"
   ],
   "execution_count":53,
   "outputs":[
    {
     "name":"stdout",
     "text":[
      "Weight is set to: 100 \n",
      "Bias is set to: 100\n"
     ],
     "output_type":"stream"
    }
   ],
   "metadata":{
    "datalore":{
     "node_id":"KdkkLO8phfjORiGjMqdIEt",
     "type":"CODE",
     "hide_input_from_viewers":false,
     "hide_output_from_viewers":false,
     "report_properties":{
      "rowId":"szHNIMDyIgF5ba8TwNZ3Vl"
     }
    }
   }
  },
  {
   "cell_type":"markdown",
   "source":[
    "**Define the compute model for linear regression function**"
   ],
   "attachments":{
    
   },
   "metadata":{
    "datalore":{
     "node_id":"s0WGNruRVkH00ybZfnQtUn",
     "type":"MD",
     "hide_input_from_viewers":false,
     "hide_output_from_viewers":false,
     "report_properties":{
      "rowId":"AaopJdrwWGR43z3TvIX8NK"
     }
    }
   }
  },
  {
   "cell_type":"code",
   "source":[
    "def compute_model_output(x,w,b):\n",
    "    m=x.shape[0]\n",
    "    f_wb=np.zeros(m)\n",
    "    for i in range(m):\n",
    "        f_wb[i]=w*x[i]+b\n",
    "\n",
    "    return f_wb"
   ],
   "execution_count":54,
   "outputs":[
    
   ],
   "metadata":{
    "datalore":{
     "node_id":"7EK8b2a3Kb7fERz5WVAG5w",
     "type":"CODE",
     "hide_input_from_viewers":false,
     "hide_output_from_viewers":false,
     "report_properties":{
      "rowId":"LSOEvQmf8jJSuwZE9Ip1Fy"
     }
    }
   }
  },
  {
   "cell_type":"code",
   "source":[
    "# Calculate model predictions\n",
    "tmp_f_wb=compute_model_output(x_train,w,b)\n",
    "\n",
    "# Plot the model predictions\n",
    "plt.plot(x_train,tmp_f_wb,marker='x', c='b', label='Our Prediction')\n",
    "plt.scatter(x_train,y_train,marker='x',c='r',label='Actual values')\n",
    "plt.title('Housing Values')\n",
    "plt.xlabel(\"Housing Price in 1000s $\")\n",
    "plt.ylabel(\"Housing Size in SQ Ft\")\n",
    "plt.legend()\n",
    "plt.show"
   ],
   "execution_count":55,
   "outputs":[
    {
     "data":{
      "text\/plain":[
       "<function matplotlib.pyplot.show(close=None, block=None)>"
      ]
     },
     "metadata":{
      
     },
     "output_type":"display_data"
    },
    {
     "data":{
      "image\/png":"[encoded data removed]"
     },
     "metadata":{
      "image\/png":{
       
      }
     },
     "output_type":"display_data"
    }
   ],
   "metadata":{
    "datalore":{
     "node_id":"uYjKYKBfVqmVKUdQoQAI0V",
     "type":"CODE",
     "hide_input_from_viewers":false,
     "hide_output_from_viewers":false,
     "report_properties":{
      "rowId":"SADWM1TzGGVtt2C2KyRdDw"
     }
    }
   }
  },
  {
   "cell_type":"code",
   "source":[
    "w=200 # Adjusting model parameter value to see if this produces prediction in line with linear model\n",
    "# Calculate model predictions\n",
    "tmp_f_wb=compute_model_output(x_train,w,b)\n",
    "\n",
    "# Plot the model predictions\n",
    "plt.plot(x_train,tmp_f_wb,marker='x', c='b', label='Our Prediction')\n",
    "plt.scatter(x_train,y_train,marker='x',c='r',label='Actual values')\n",
    "plt.title('Housing Values')\n",
    "plt.xlabel(\"Housing Price in 1000s $\")\n",
    "plt.ylabel(\"Housing Size in SQ Ft\")\n",
    "plt.legend()\n",
    "plt.show"
   ],
   "execution_count":56,
   "outputs":[
    {
     "data":{
      "text\/plain":[
       "<function matplotlib.pyplot.show(close=None, block=None)>"
      ]
     },
     "metadata":{
      
     },
     "output_type":"display_data"
    },
    {
     "data":{
      "image\/png":"[encoded data removed]"
     },
     "metadata":{
      "image\/png":{
       
      }
     },
     "output_type":"display_data"
    }
   ],
   "metadata":{
    "datalore":{
     "node_id":"4hHMpr9ghzXvxG4Wfeqq1E",
     "type":"CODE",
     "hide_input_from_viewers":false,
     "hide_output_from_viewers":false,
     "report_properties":{
      "rowId":"ri9BiGBf6w2SoiODnRaSo4"
     }
    }
   }
  },
  {
   "cell_type":"markdown",
   "source":[
    "**Now that the linear model with w=200 and b=100 fits our training data points, let's calculate price for house at 1200 sq ft**"
   ],
   "attachments":{
    
   },
   "metadata":{
    "datalore":{
     "node_id":"4Jop0qErY8NZs3I2JFYV4Y",
     "type":"MD",
     "hide_input_from_viewers":false,
     "hide_output_from_viewers":false,
     "report_properties":{
      "rowId":"RLYBuZSxpkeJNfD36Y8ONf"
     }
    }
   }
  },
  {
   "cell_type":"code",
   "source":[
    "w=200 # Adjusting model parameter value to see if this produces prediction in line with linear model\n",
    "# Calculate model predictions\n",
    "x_train_prd=np.array([1.0,1.2,2.0])\n",
    "tmp_f_wb=compute_model_output(x_train_prd,w,b)\n",
    "\n",
    "# Plot the model predictions\n",
    "plt.plot(x_train_prd,tmp_f_wb,marker='x', c='g', label='Our Prediction')\n",
    "plt.scatter(x_train,y_train,marker='x',c='r',label='Actual values')\n",
    "plt.title('Housing Values')\n",
    "plt.xlabel(\"Housing Price in 1000s $\")\n",
    "plt.ylabel(\"Housing Size in SQ Ft\")\n",
    "plt.legend()\n",
    "plt.show"
   ],
   "execution_count":57,
   "outputs":[
    {
     "data":{
      "text\/plain":[
       "<function matplotlib.pyplot.show(close=None, block=None)>"
      ]
     },
     "metadata":{
      
     },
     "output_type":"display_data"
    },
    {
     "data":{
      "image\/png":"[encoded data removed]"
     },
     "metadata":{
      "image\/png":{
       
      }
     },
     "output_type":"display_data"
    }
   ],
   "metadata":{
    "datalore":{
     "node_id":"BAceOVne9f0l86t09vRdkJ",
     "type":"CODE",
     "hide_input_from_viewers":false,
     "hide_output_from_viewers":false,
     "report_properties":{
      "rowId":"4Lm2fFajBsdVibuMgELC83"
     }
    }
   }
  },
  {
   "cell_type":"code",
   "source":[
    
   ],
   "execution_count":null,
   "outputs":[
    
   ],
   "metadata":{
    "datalore":{
     "node_id":"hqHUywQHIzTuYdxppQQmZt",
     "type":"CODE",
     "hide_input_from_viewers":true,
     "hide_output_from_viewers":true
    }
   }
  }
 ],
 "metadata":{
  "kernelspec":{
   "display_name":"Python",
   "language":"python",
   "name":"python"
  },
  "datalore":{
   "computation_mode":"JUPYTER",
   "package_manager":"pip",
   "base_environment":"default",
   "packages":[
    
   ],
   "report_row_ids":[
    "Zn59H0N5Pjopwh9hDf6OX7",
    "AmICm3f3bAdy6sdee2gjnt",
    "29ntSCN5IiNPxDsljd4BOo",
    "sH0ckNnF38zxNFUwuqRsqt",
    "OP72tsTfx1ct4uWxmMLH7r",
    "ptUEtO1GPpBqc20KVSNncK",
    "oTQg6PZm6iOiqUdLLkPD6Q",
    "vIusVhigmiNI3zu3CMq8JF",
    "VNSKNUn0UvZ5zV3U0z0Cbh",
    "fKtF6IqZzFJXE0oFSTaB7C",
    "EVtTFkfXkvv3vPp0yJmV1j",
    "bPCoyGaP8mWzLB9DJBzHsr",
    "szHNIMDyIgF5ba8TwNZ3Vl",
    "AaopJdrwWGR43z3TvIX8NK",
    "LSOEvQmf8jJSuwZE9Ip1Fy",
    "SADWM1TzGGVtt2C2KyRdDw",
    "ri9BiGBf6w2SoiODnRaSo4",
    "RLYBuZSxpkeJNfD36Y8ONf",
    "4Lm2fFajBsdVibuMgELC83"
   ],
   "version":3
  }
 },
 "nbformat":4,
 "nbformat_minor":4
}