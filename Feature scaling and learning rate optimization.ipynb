{
 "cells":[
  {
   "cell_type":"markdown",
   "source":[
    "**This notebook covers feature sclaing for given linear regression problem and covers learning rate optimization**"
   ],
   "attachments":{
    
   },
   "metadata":{
    "datalore":{
     "node_id":"qGwNr3M4228YMHtRRaOBNW",
     "type":"MD",
     "hide_input_from_viewers":true,
     "hide_output_from_viewers":true
    }
   }
  },
  {
   "cell_type":"code",
   "source":[
    "# let's import the required libs\n",
    "\n",
    "import numpy as np\n",
    "import matplotlib.pyplot as plt\n",
    "import copy\n",
    "np.set_printoptions(precision=2)"
   ],
   "execution_count":77,
   "outputs":[
    
   ],
   "metadata":{
    "datalore":{
     "node_id":"w6qtuOiLwZkotVF2jqWRID",
     "type":"CODE",
     "hide_input_from_viewers":true,
     "hide_output_from_viewers":true
    }
   }
  },
  {
   "cell_type":"code",
   "source":[
    "# let's prepare the training data using housing examples\n",
    "\n",
    "x_train = np.array([[952,2,1,65],[1244,3,2,64],[1947,3,2,17]])\n",
    "y_train = np.array([271.5,232,509.8])\n",
    "x_features = np.array(['size(sqft','bedrooms','floors','age'])"
   ],
   "execution_count":44,
   "outputs":[
    
   ],
   "metadata":{
    "datalore":{
     "node_id":"Ufl6kSD170XbAjGAfcErCk",
     "type":"CODE",
     "hide_input_from_viewers":true,
     "hide_output_from_viewers":true
    }
   }
  },
  {
   "cell_type":"code",
   "source":[
    "# now let's plot these features on the graph\n",
    "\n",
    "# x_size = x_features.shape[0]\n",
    "\n",
    "# One way to plot on graph\n",
    "#for i in range(x_size):\n",
    "#    plt.scatter(x_train[:,i],y_train,marker='x',color='g')\n",
    "#    plt.xlabel(x_features[i])\n",
    "#    plt.ylabel('price (per 1000 $)')\n",
    "#    plt.show()\n",
    "\n",
    "# anoter way to plot adjacently\n",
    "\n",
    "# fig defines a container for subplots and ax defines the axes\n",
    "# 1 defines number of rows of subplots and 4 defines columns\n",
    "# figsize defines width and height of the subplots\n",
    "# sharey defines if the y axis is shared between subplots\n",
    "\n",
    "fig,ax=plt.subplots(1, 4, figsize=(12, 3), sharey=True)\n",
    "\n",
    "for i in range(len(ax)):\n",
    "    ax[i].scatter(x_train[:,i],y_train)\n",
    "    ax[i].set_xlabel(x_features[i])\n",
    "\n",
    "ax[0].set_ylabel(\"price in 1000s ($)\")\n",
    "plt.show()"
   ],
   "execution_count":45,
   "outputs":[
    {
     "data":{
      "image\/png":"[encoded data removed]"
     },
     "metadata":{
      "image\/png":{
       
      }
     },
     "output_type":"display_data"
    }
   ],
   "metadata":{
    "datalore":{
     "node_id":"4ydg9u0TFGSpspv5B7btDJ",
     "type":"CODE",
     "hide_input_from_viewers":true,
     "hide_output_from_viewers":true
    }
   }
  },
  {
   "cell_type":"code",
   "source":[
    "# now let's create a function to compute the predicted y\n",
    "\n",
    "def compute_pred_y_fn(x,w,b):\n",
    "    fn_wb = np.dot(x,w) + b\n",
    "    return fn_wb"
   ],
   "execution_count":46,
   "outputs":[
    
   ],
   "metadata":{
    "datalore":{
     "node_id":"sbZxPAYV5itYbGKcWU9W89",
     "type":"CODE",
     "hide_input_from_viewers":true,
     "hide_output_from_viewers":true
    }
   }
  },
  {
   "cell_type":"code",
   "source":[
    "# now let's test the function to compute predicted y\n",
    "\n",
    "w_sample = np.array([0.0005,1,1,1])\n",
    "b_sample = 500\n",
    "\n",
    "for i in range(x_train.shape[0]):\n",
    "    pred_y = compute_pred_y_fn(x_train[i],w_sample,b_sample)\n",
    "    print(f\"Predicted y for {x_train[i]} is: {pred_y}\")"
   ],
   "execution_count":60,
   "outputs":[
    {
     "name":"stdout",
     "text":[
      "Predicted y for [952   2   1  65] is: 568.476\n",
      "Predicted y for [1244    3    2   64] is: 569.622\n",
      "Predicted y for [1947    3    2   17] is: 522.9735000000001\n"
     ],
     "output_type":"stream"
    }
   ],
   "metadata":{
    "datalore":{
     "node_id":"pAEuGK8TWD817FyKdIvWrq",
     "type":"CODE",
     "hide_input_from_viewers":true,
     "hide_output_from_viewers":true
    }
   }
  },
  {
   "cell_type":"code",
   "source":[
    "# now let's create the cost function to further understand the cost factor\n",
    "\n",
    "def compute_cost_fn(x, y, w, b):\n",
    "    error_sum = 0\n",
    "    for i in range(x.shape[0]):\n",
    "        fn_wb = compute_pred_y_fn(x[i], w, b)\n",
    "        error = np.square(fn_wb - y[i])\n",
    "        error_sum += error\n",
    "\n",
    "    j_wb = error_sum \/ (2 * x.shape[0])\n",
    "    return j_wb"
   ],
   "execution_count":61,
   "outputs":[
    
   ],
   "metadata":{
    "datalore":{
     "node_id":"2EZBNHqYJztRJWCrGii230",
     "type":"CODE",
     "hide_input_from_viewers":true,
     "hide_output_from_viewers":true
    }
   }
  },
  {
   "cell_type":"code",
   "source":[
    "# now let's compute the cost using the cost function\n",
    "\n",
    "cost = compute_cost_fn(x_train,y_train,w_sample,b_sample)\n",
    "print(f\"Cost for the given training dataset is: {cost}\")"
   ],
   "execution_count":62,
   "outputs":[
    {
     "name":"stdout",
     "text":[
      "Cost for the given training dataset is: 33726.150093708326\n"
     ],
     "output_type":"stream"
    }
   ],
   "metadata":{
    "datalore":{
     "node_id":"pO0yWgCZyrxsqmNlvQ0Den",
     "type":"CODE",
     "hide_input_from_viewers":true,
     "hide_output_from_viewers":true
    }
   }
  },
  {
   "cell_type":"code",
   "source":[
    "# now let's calculate the derivatives of cost function w.r.t w and b\n",
    "\n",
    "def comptute_deriv_jwb(x,y,w,b):\n",
    "\n",
    "    # derivative function is as simple as (pred_y - train_y) * xij\/m and (pred_y - train_y)\/m\n",
    "\n",
    "    x_row = x.shape[0] # number of training examples\n",
    "    x_col = x.shape[1] # number of training features\n",
    "\n",
    "    dj_dw = np.zeros(x_col)\n",
    "    dj_db = 0\n",
    "    \n",
    "    for i in range(x_row):\n",
    "        \n",
    "        error = compute_pred_y_fn(x[i],w,b) - y[i]\n",
    "        \n",
    "        for j in range(x_col):\n",
    "            dj_dw[j] += error * x[i,j] \n",
    "        dj_db += error\n",
    "\n",
    "    return dj_dw\/x_row, dj_db\/x_row"
   ],
   "execution_count":71,
   "outputs":[
    
   ],
   "metadata":{
    "datalore":{
     "node_id":"bRcHBQzZhUrD2BMIsahtlK",
     "type":"CODE",
     "hide_input_from_viewers":true,
     "hide_output_from_viewers":true
    }
   }
  },
  {
   "cell_type":"code",
   "source":[
    "# now let's create the gradient descent function\n",
    "\n",
    "def compute_gradient_descent(x,y,a,n,w,b):\n",
    "\n",
    "    j_hist = np.zeros(n)\n",
    "    w_hist = np.zeros((n,x.shape[1]))\n",
    "    b_hist = np.zeros(n)\n",
    "    w_copy = copy.deepcopy(w)\n",
    "    b_copy = b\n",
    "\n",
    "    # computing gradient descent is iterating and computing change in values of w and b w.r.t learning rate and derivatives\n",
    "\n",
    "    for i in range(n):\n",
    "        j_hist[i] = compute_cost_fn(x,y,w_copy,b_copy)\n",
    "        w_hist[i] = w_copy\n",
    "        b_hist[i] = b_copy\n",
    "        print(f\"when w is {w_copy} and b is {b_copy} then cost is: {j_hist[i]}\")\n",
    "        w_copy = w_copy - a * comptute_deriv_jwb(x,y,w_copy,b_copy)[0]\n",
    "        b_copy = b_copy - a * comptute_deriv_jwb(x,y,w_copy,b_copy)[1]\n",
    "        \n",
    "    return j_hist,w_hist,b_hist"
   ],
   "execution_count":78,
   "outputs":[
    
   ],
   "metadata":{
    "datalore":{
     "node_id":"E41LfzYuvimFptSRCZuCIF",
     "type":"CODE",
     "hide_input_from_viewers":true,
     "hide_output_from_viewers":true
    }
   }
  },
  {
   "cell_type":"code",
   "source":[
    "# let's test our gradient descent function\n",
    "a_in = 1e-7\n",
    "w_in = np.array([5.0e-01,9.1e-04,4.7e-04,1.1e-02])\n",
    "b_in = 3.3e-04\n",
    "compute_gradient_descent(x_train,y_train,a_in,10,w_in,b_in)"
   ],
   "execution_count":85,
   "outputs":[
    {
     "name":"stdout",
     "text":[
      "when w is [5.0e-01 9.1e-04 4.7e-04 1.1e-02] and b is 0.00033 then cost is: 68326.97878391073\n",
      "when w is [4.47e-01 8.11e-04 4.06e-04 9.46e-03] and b is 0.0003019747750852079 then cost is: 43311.92477043214\n",
      "when w is [4.05e-01 7.32e-04 3.55e-04 8.23e-03] and b is 0.0002797304186275242 then cost is: 27633.498253304744\n",
      "when w is [3.72e-01 6.69e-04 3.15e-04 7.24e-03] and b is 0.00026206268001389467 then cost is: 17806.88753976577\n",
      "when w is [3.46e-01 6.19e-04 2.82e-04 6.44e-03] and b is 0.0002480181767256335 then cost is: 11647.95535623045\n",
      "when w is [3.25e-01 5.79e-04 2.56e-04 5.80e-03] and b is 0.00023684213378692213 then cost is: 7787.773895297313\n",
      "when w is [3.09e-01 5.46e-04 2.35e-04 5.27e-03] and b is 0.0002279370100710014 then cost is: 5368.3552619284665\n",
      "when w is [2.96e-01 5.20e-04 2.18e-04 4.85e-03] and b is 0.0002208297435264441 then cost is: 3851.9477762826264\n",
      "when w is [2.86e-01 4.99e-04 2.04e-04 4.49e-03] and b is 0.00021514581984003714 then cost is: 2901.5107052273524\n",
      "when w is [2.77e-01 4.82e-04 1.93e-04 4.20e-03] and b is 0.00021058874308584424 then cost is: 2305.8007183482127\n"
     ],
     "output_type":"stream"
    },
    {
     "data":{
      "text\/plain":[
       "(array([68326.98, 43311.92, 27633.5 , 17806.89, 11647.96,  7787.77,\n",
       "         5368.36,  3851.95,  2901.51,  2305.8 ]),\n",
       " array([[5.00e-01, 9.10e-04, 4.70e-04, 1.10e-02],\n",
       "        [4.47e-01, 8.11e-04, 4.06e-04, 9.46e-03],\n",
       "        [4.05e-01, 7.32e-04, 3.55e-04, 8.23e-03],\n",
       "        [3.72e-01, 6.69e-04, 3.15e-04, 7.24e-03],\n",
       "        [3.46e-01, 6.19e-04, 2.82e-04, 6.44e-03],\n",
       "        [3.25e-01, 5.79e-04, 2.56e-04, 5.80e-03],\n",
       "        [3.09e-01, 5.46e-04, 2.35e-04, 5.27e-03],\n",
       "        [2.96e-01, 5.20e-04, 2.18e-04, 4.85e-03],\n",
       "        [2.86e-01, 4.99e-04, 2.04e-04, 4.49e-03],\n",
       "        [2.77e-01, 4.82e-04, 1.93e-04, 4.20e-03]]),\n",
       " array([0., 0., 0., 0., 0., 0., 0., 0., 0., 0.]))"
      ]
     },
     "metadata":{
      
     },
     "output_type":"display_data"
    }
   ],
   "metadata":{
    "datalore":{
     "node_id":"tgiCPrrXYwdtUbQnC9Bv5b",
     "type":"CODE",
     "hide_input_from_viewers":true,
     "hide_output_from_viewers":true
    }
   }
  },
  {
   "cell_type":"code",
   "source":[
    
   ],
   "execution_count":84,
   "outputs":[
    {
     "name":"stdout",
     "text":[
      "Mean Squared Error (MSE): 68326.97878391073\n"
     ],
     "output_type":"stream"
    }
   ],
   "metadata":{
    "datalore":{
     "node_id":"TEqKRbkI7UGX5HUvckRfbt",
     "type":"CODE",
     "hide_input_from_viewers":true,
     "hide_output_from_viewers":true
    }
   }
  },
  {
   "cell_type":"code",
   "source":[
    
   ],
   "execution_count":null,
   "outputs":[
    
   ],
   "metadata":{
    "datalore":{
     "node_id":"8t0RMn0dJN4Ug0jmkQAx9i",
     "type":"CODE",
     "hide_input_from_viewers":true,
     "hide_output_from_viewers":true
    }
   }
  }
 ],
 "metadata":{
  "kernelspec":{
   "display_name":"Python",
   "language":"python",
   "name":"python"
  },
  "datalore":{
   "computation_mode":"JUPYTER",
   "package_manager":"pip",
   "base_environment":"default",
   "packages":[
    
   ],
   "report_row_ids":[
    
   ],
   "version":3
  }
 },
 "nbformat":4,
 "nbformat_minor":4
}