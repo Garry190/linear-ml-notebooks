{
 "cells":[
  {
   "cell_type":"markdown",
   "source":[
    "**This notebook covers feature sclaing for given linear regression problem and covers learning rate optimization**"
   ],
   "attachments":{
    
   },
   "metadata":{
    "datalore":{
     "node_id":"qGwNr3M4228YMHtRRaOBNW",
     "type":"MD",
     "hide_input_from_viewers":true,
     "hide_output_from_viewers":true
    }
   }
  },
  {
   "cell_type":"code",
   "source":[
    "# let's import the required libs\n",
    "\n",
    "import numpy as np\n",
    "import matplotlib.pyplot as plt\n",
    "import copy\n",
    "np.set_printoptions(precision=2)"
   ],
   "execution_count":4,
   "outputs":[
    
   ],
   "metadata":{
    "datalore":{
     "node_id":"w6qtuOiLwZkotVF2jqWRID",
     "type":"CODE",
     "hide_input_from_viewers":true,
     "hide_output_from_viewers":true
    }
   }
  },
  {
   "cell_type":"code",
   "source":[
    "# let's prepare the training data using housing examples\n",
    "\n",
    "x_train = np.array([[952,2,1,65],[1244,3,2,64],[1947,3,2,17]])\n",
    "y_train = np.array([271.5,232,509.8])\n",
    "x_features = np.array(['size(sqft','bedrooms','floors','age'])"
   ],
   "execution_count":5,
   "outputs":[
    
   ],
   "metadata":{
    "datalore":{
     "node_id":"Ufl6kSD170XbAjGAfcErCk",
     "type":"CODE",
     "hide_input_from_viewers":true,
     "hide_output_from_viewers":true
    }
   }
  },
  {
   "cell_type":"code",
   "source":[
    "# now let's plot these features on the graph\n",
    "\n",
    "# x_size = x_features.shape[0]\n",
    "\n",
    "# One way to plot on graph\n",
    "#for i in range(x_size):\n",
    "#    plt.scatter(x_train[:,i],y_train,marker='x',color='g')\n",
    "#    plt.xlabel(x_features[i])\n",
    "#    plt.ylabel('price (per 1000 $)')\n",
    "#    plt.show()\n",
    "\n",
    "# anoter way to plot adjacently\n",
    "\n",
    "# fig defines a container for subplots and ax defines the axes\n",
    "# 1 defines number of rows of subplots and 4 defines columns\n",
    "# figsize defines width and height of the subplots\n",
    "# sharey defines if the y axis is shared between subplots\n",
    "\n",
    "fig,ax=plt.subplots(1, 4, figsize=(12, 3), sharey=True)\n",
    "\n",
    "for i in range(len(ax)):\n",
    "    ax[i].scatter(x_train[:,i],y_train)\n",
    "    ax[i].set_xlabel(x_features[i])\n",
    "\n",
    "ax[0].set_ylabel(\"price in 1000s ($)\")\n",
    "plt.show()"
   ],
   "execution_count":6,
   "outputs":[
    {
     "data":{
      "image\/png":"[encoded data removed]"
     },
     "metadata":{
      "image\/png":{
       
      }
     },
     "output_type":"display_data"
    }
   ],
   "metadata":{
    "datalore":{
     "node_id":"4ydg9u0TFGSpspv5B7btDJ",
     "type":"CODE",
     "hide_input_from_viewers":true,
     "hide_output_from_viewers":true
    }
   }
  },
  {
   "cell_type":"code",
   "source":[
    "# now let's create a function to compute the predicted y\n",
    "\n",
    "def compute_pred_y_fn(x,w,b):\n",
    "    fn_wb = np.dot(x,w) + b\n",
    "    return fn_wb"
   ],
   "execution_count":7,
   "outputs":[
    
   ],
   "metadata":{
    "datalore":{
     "node_id":"sbZxPAYV5itYbGKcWU9W89",
     "type":"CODE",
     "hide_input_from_viewers":true,
     "hide_output_from_viewers":true
    }
   }
  },
  {
   "cell_type":"code",
   "source":[
    "# now let's test the function to compute predicted y\n",
    "\n",
    "w_sample = np.array([0.0005,1,1,1])\n",
    "b_sample = 500\n",
    "\n",
    "for i in range(x_train.shape[0]):\n",
    "    pred_y = compute_pred_y_fn(x_train[i],w_sample,b_sample)\n",
    "    print(f\"Predicted y for {x_train[i]} is: {pred_y}\")"
   ],
   "execution_count":8,
   "outputs":[
    {
     "name":"stdout",
     "text":[
      "Predicted y for [952   2   1  65] is: 568.476\n",
      "Predicted y for [1244    3    2   64] is: 569.622\n",
      "Predicted y for [1947    3    2   17] is: 522.9735000000001\n"
     ],
     "output_type":"stream"
    }
   ],
   "metadata":{
    "datalore":{
     "node_id":"pAEuGK8TWD817FyKdIvWrq",
     "type":"CODE",
     "hide_input_from_viewers":true,
     "hide_output_from_viewers":true
    }
   }
  },
  {
   "cell_type":"code",
   "source":[
    "# now let's create the cost function to further understand the cost factor\n",
    "\n",
    "def compute_cost_fn(x, y, w, b):\n",
    "    error_sum = 0\n",
    "    for i in range(x.shape[0]):\n",
    "        fn_wb = compute_pred_y_fn(x[i], w, b)\n",
    "        error = np.square(fn_wb - y[i])\n",
    "        error_sum += error\n",
    "\n",
    "    j_wb = error_sum \/ (2 * x.shape[0])\n",
    "    return j_wb"
   ],
   "execution_count":9,
   "outputs":[
    
   ],
   "metadata":{
    "datalore":{
     "node_id":"2EZBNHqYJztRJWCrGii230",
     "type":"CODE",
     "hide_input_from_viewers":true,
     "hide_output_from_viewers":true
    }
   }
  },
  {
   "cell_type":"code",
   "source":[
    "# now let's compute the cost using the cost function\n",
    "\n",
    "cost = compute_cost_fn(x_train,y_train,w_sample,b_sample)\n",
    "print(f\"Cost for the given training dataset is: {cost}\")"
   ],
   "execution_count":10,
   "outputs":[
    {
     "name":"stdout",
     "text":[
      "Cost for the given training dataset is: 33726.150093708326\n"
     ],
     "output_type":"stream"
    }
   ],
   "metadata":{
    "datalore":{
     "node_id":"pO0yWgCZyrxsqmNlvQ0Den",
     "type":"CODE",
     "hide_input_from_viewers":true,
     "hide_output_from_viewers":true
    }
   }
  },
  {
   "cell_type":"code",
   "source":[
    "# now let's calculate the derivatives of cost function w.r.t w and b\n",
    "\n",
    "def comptute_deriv_jwb(x,y,w,b):\n",
    "\n",
    "    # derivative function is as simple as (pred_y - train_y) * xij\/m and (pred_y - train_y)\/m\n",
    "\n",
    "    x_row = x.shape[0] # number of training examples\n",
    "    x_col = x.shape[1] # number of training features\n",
    "\n",
    "    dj_dw = np.zeros(x_col)\n",
    "    dj_db = 0\n",
    "    \n",
    "    for i in range(x_row):\n",
    "        \n",
    "        error = compute_pred_y_fn(x[i],w,b) - y[i]\n",
    "        \n",
    "        for j in range(x_col):\n",
    "            dj_dw[j] += error * x[i,j] \n",
    "        dj_db += error\n",
    "\n",
    "    return dj_dw\/x_row, dj_db\/x_row"
   ],
   "execution_count":11,
   "outputs":[
    
   ],
   "metadata":{
    "datalore":{
     "node_id":"bRcHBQzZhUrD2BMIsahtlK",
     "type":"CODE",
     "hide_input_from_viewers":true,
     "hide_output_from_viewers":true
    }
   }
  },
  {
   "cell_type":"code",
   "source":[
    "# now let's create the gradient descent function\n",
    "\n",
    "def compute_gradient_descent(x,y,a,n,w,b):\n",
    "\n",
    "    j_hist = np.zeros(n)\n",
    "    w_hist = np.zeros((n,x.shape[1]))\n",
    "    b_hist = np.zeros(n)\n",
    "    w_copy = copy.deepcopy(w)\n",
    "    b_copy = b\n",
    "\n",
    "    # computing gradient descent is iterating and computing change in values of w and b w.r.t learning rate and derivatives\n",
    "    counter = 0 \n",
    "    for i in range(n):\n",
    "        j_hist[i] = compute_cost_fn(x,y,w_copy,b_copy)\n",
    "        w_hist[i] = w_copy\n",
    "        b_hist[i] = b_copy\n",
    "        counter += 1\n",
    "        if counter % 500 == 0:\n",
    "            print(f\"when w is {w_copy} and b is {b_copy} then cost is: {j_hist[i]}\")\n",
    "        w_copy = w_copy - a * comptute_deriv_jwb(x,y,w_copy,b_copy)[0]\n",
    "        b_copy = b_copy - a * comptute_deriv_jwb(x,y,w_copy,b_copy)[1]\n",
    "        \n",
    "    return j_hist,w_copy,b_copy"
   ],
   "execution_count":73,
   "outputs":[
    
   ],
   "metadata":{
    "datalore":{
     "node_id":"E41LfzYuvimFptSRCZuCIF",
     "type":"CODE",
     "hide_input_from_viewers":true,
     "hide_output_from_viewers":true
    }
   }
  },
  {
   "cell_type":"code",
   "source":[
    "# let's test our gradient descent function\n",
    "a_in = 1.0e-6\n",
    "w_in = np.array([5.0e-01,9.1e-04,4.7e-04,1.1e-02])\n",
    "b_in = 3.3e-04\n",
    "compute_gradient_descent(x_train,y_train,a_in,1000,w_in,b_in);"
   ],
   "execution_count":60,
   "outputs":[
    {
     "name":"stdout",
     "text":[
      "when w is [-12.47  -0.02  -0.02  -0.38] and b is 0.009529141634923396 then cost is: 168710070.1831391\n",
      "when w is [-691.13   -1.27   -0.81  -19.4 ] and b is 0.4972217785552241 then cost is: 498276698494.48584\n",
      "when w is [-37573.27    -69.07    -44.13  -1051.23] and b is 27.007454179325123 then cost is: 1471646365403630.0\n",
      "when w is [-2041964.59    -3753.39    -2398.38   -57125.8 ] and b is 1467.7341639353558 then cost is: 4.346466605556945e+18\n",
      "when w is [-1.11e+08 -2.04e+05 -1.30e+05 -3.10e+06] and b is 79765.26676222743 then cost is: 1.2837168220136664e+22\n",
      "when w is [-6.03e+09 -1.11e+07 -7.08e+06 -1.69e+08] and b is 4334911.789041316 then cost is: 3.7914219265230185e+25\n",
      "when w is [-3.28e+11 -6.02e+08 -3.85e+08 -9.17e+09] and b is 235584496.6518659 then cost is: 1.1197859199485037e+29\n",
      "when w is [-1.78e+13 -3.27e+10 -2.09e+10 -4.98e+11] and b is 12803041391.134619 then cost is: 3.307256567102391e+32\n",
      "when w is [-9.68e+14 -1.78e+12 -1.14e+12 -2.71e+13] and b is 695792257948.3705 then cost is: 9.767890277763862e+35\n",
      "when w is [-5.26e+16 -9.67e+13 -6.18e+13 -1.47e+15] and b is 37813426625029.77 then cost is: 2.8849192236097965e+39\n",
      "when w is [-2.86e+18 -5.26e+15 -3.36e+15 -8.00e+16] and b is 2055003080003522.2 then cost is: 8.520528681305629e+42\n",
      "when w is [-1.55e+20 -2.86e+17 -1.82e+17 -4.35e+18] and b is 1.1168090373562218e+17 then cost is: 2.516514445701208e+46\n",
      "when w is [-8.44e+21 -1.55e+19 -9.92e+18 -2.36e+20] and b is 6.069394435741633e+18 then cost is: 7.432455417135534e+49\n",
      "when w is [-4.59e+23 -8.44e+20 -5.39e+20 -1.28e+22] and b is 3.2984644271697225e+20 then cost is: 2.1951550336646156e+53\n",
      "when w is [-2.49e+25 -4.58e+22 -2.93e+22 -6.98e+23] and b is 1.7925787642395349e+22 then cost is: 6.483329332475441e+56\n",
      "when w is [-1.36e+27 -2.49e+24 -1.59e+24 -3.79e+25] and b is 9.74192293703096e+23 then cost is: 1.9148332846070243e+60\n",
      "when w is [-7.37e+28 -1.35e+26 -8.65e+25 -2.06e+27] and b is 5.294331518610377e+25 then cost is: 5.6554068439385815e+63\n",
      "when w is [-4.00e+30 -7.36e+27 -4.70e+27 -1.12e+29] and b is 2.87724984175393e+27 then cost is: 1.6703086805299224e+67\n",
      "when w is [-2.18e+32 -4.00e+29 -2.56e+29 -6.09e+30] and b is 1.5636660875452539e+29 then cost is: 4.933210227384145e+70\n",
      "when w is [-1.18e+34 -2.17e+31 -1.39e+31 -3.31e+32] and b is 8.497877375322422e+30 then cost is: 1.4570099186604518e+74\n"
     ],
     "output_type":"stream"
    }
   ],
   "metadata":{
    "datalore":{
     "node_id":"tgiCPrrXYwdtUbQnC9Bv5b",
     "type":"CODE",
     "hide_input_from_viewers":true,
     "hide_output_from_viewers":true
    }
   }
  },
  {
   "cell_type":"markdown",
   "source":[
    "**Now let's use Z score normalization to scale the values for features**\n",
    "\n",
    "Z-Score normalization helps in condensing the mean average of all the independent variables\/features to zero with a standard deviation of 1. Z-Score normalization follows following implementation method:\n",
    "\n",
    "- Take average or mean of all the given values for the feature\n",
    "- Take squared sum of all individual feature values subtracted from mean and divide it by total number of values"
   ],
   "attachments":{
    
   },
   "metadata":{
    "datalore":{
     "node_id":"06PVdUrAzbGjrRPmy5LOQh",
     "type":"MD",
     "hide_input_from_viewers":true,
     "hide_output_from_viewers":true
    }
   }
  },
  {
   "cell_type":"code",
   "source":[
    "def z_score_normalize(x):\n",
    "    # X (ndarray (m,n))     : input data, m examples, n features\n",
    "\n",
    "    mu = np.mean(x, axis=0) # calculat mean for all columns in the given array\n",
    "    sigma = np.std(x, axis=0) # calculate average deviation for all columns in given array\n",
    "\n",
    "    print(f\"Given array is: {x}\")\n",
    "    print(f\"Mean of the array is: {mu}\")\n",
    "    print(f\"Sigma of the array is: {sigma}\")\n",
    "\n",
    "    x_norm = (x - mu)\/sigma\n",
    "\n",
    "    print(f\"Normalized array is: {x_norm}\")\n",
    "\n",
    "    return (x_norm, mu, sigma)"
   ],
   "execution_count":61,
   "outputs":[
    
   ],
   "metadata":{
    "datalore":{
     "node_id":"AH4unB8IZLbAcI4aiygn6K",
     "type":"CODE",
     "hide_input_from_viewers":true,
     "hide_output_from_viewers":true
    }
   }
  },
  {
   "cell_type":"code",
   "source":[
    "# now let's try and normalize the given training array\n",
    "\n",
    "x_norm, mu, sigma = z_score_normalize(x_train)"
   ],
   "execution_count":62,
   "outputs":[
    {
     "name":"stdout",
     "text":[
      "Given array is: [[ 952    2    1   65]\n",
      " [1244    3    2   64]\n",
      " [1947    3    2   17]]\n",
      "Mean of the array is: [1381.      2.67    1.67   48.67]\n",
      "Sigma of the array is: [417.6    0.47   0.47  22.4 ]\n",
      "Normalized array is: [[-1.03 -1.41 -1.41  0.73]\n",
      " [-0.33  0.71  0.71  0.68]\n",
      " [ 1.36  0.71  0.71 -1.41]]\n"
     ],
     "output_type":"stream"
    }
   ],
   "metadata":{
    "datalore":{
     "node_id":"DwPuTWmxnXPhFSRKXqWVyh",
     "type":"CODE",
     "hide_input_from_viewers":true,
     "hide_output_from_viewers":true
    }
   }
  },
  {
   "cell_type":"code",
   "source":[
    "# now let's plot the normalized features on graph\n",
    "\n",
    "fig,ax=plt.subplots(1, 4, figsize=(12, 3), sharey=True)\n",
    "\n",
    "for i in range(len(ax)):\n",
    "    ax[i].scatter(x_norm[:,i],y_train)\n",
    "    ax[i].set_xlabel(x_features[i])\n",
    "\n",
    "ax[0].set_ylabel(\"price in 1000s ($)\")\n",
    "plt.show()"
   ],
   "execution_count":63,
   "outputs":[
    {
     "data":{
      "image\/png":"[encoded data removed]"
     },
     "metadata":{
      "image\/png":{
       
      }
     },
     "output_type":"display_data"
    }
   ],
   "metadata":{
    "datalore":{
     "node_id":"55nTW17PfAinyARRT8gG8P",
     "type":"CODE",
     "hide_input_from_viewers":true,
     "hide_output_from_viewers":true
    }
   }
  },
  {
   "cell_type":"code",
   "source":[
    "# let's test our gradient descent function\n",
    "a_in = 1.0e-2\n",
    "w_in = np.zeros(x_norm.shape[1])\n",
    "b_in = 0\n",
    "j_hist,w_norm,b_norm = compute_gradient_descent(x_norm,y_train,a_in,1000,w_in,b_in);"
   ],
   "execution_count":75,
   "outputs":[
    {
     "name":"stdout",
     "text":[
      "when w is [ 60.04 -19.24 -19.24 -82.34] and b is 335.52495943876124 then cost is: 4.069867045321922\n",
      "when w is [ 60.75 -20.18 -20.18 -83.6 ] and b is 337.7519375673398 then cost is: 0.0008001344926703002\n"
     ],
     "output_type":"stream"
    }
   ],
   "metadata":{
    "datalore":{
     "node_id":"iDorYycZ14UbxY0QVH2rkQ",
     "type":"CODE",
     "hide_input_from_viewers":true,
     "hide_output_from_viewers":true
    }
   }
  },
  {
   "cell_type":"code",
   "source":[
    "# now let's take the weight computed above after running the function on normalized data\n",
    "\n",
    "x_input = np.array([952, 2, 1, 65])\n",
    "\n",
    "x_input_norm = (x_input - mu)\/sigma\n",
    "\n",
    "print(x_input_norm)\n",
    "\n",
    "price_pred = np.dot(x_input_norm, w_norm) + b_norm\n",
    "\n",
    "print(f\"Predicted price is: {price_pred}\")\n"
   ],
   "execution_count":78,
   "outputs":[
    {
     "name":"stdout",
     "text":[
      "[-1.03 -1.41 -1.41  0.73]\n",
      "Predicted price is: 271.4634183500612\n"
     ],
     "output_type":"stream"
    }
   ],
   "metadata":{
    "datalore":{
     "node_id":"4TbIvolOCUswDxFWuFdrMq",
     "type":"CODE",
     "hide_input_from_viewers":true,
     "hide_output_from_viewers":true
    }
   }
  },
  {
   "cell_type":"code",
   "source":[
    
   ],
   "execution_count":null,
   "outputs":[
    
   ],
   "metadata":{
    "datalore":{
     "node_id":"V42FzQl8oItl5BxMOPZloX",
     "type":"CODE",
     "hide_input_from_viewers":true,
     "hide_output_from_viewers":true
    }
   }
  }
 ],
 "metadata":{
  "kernelspec":{
   "display_name":"Python",
   "language":"python",
   "name":"python"
  },
  "datalore":{
   "computation_mode":"JUPYTER",
   "package_manager":"pip",
   "base_environment":"default",
   "packages":[
    
   ],
   "report_row_ids":[
    
   ],
   "version":3
  }
 },
 "nbformat":4,
 "nbformat_minor":4
}